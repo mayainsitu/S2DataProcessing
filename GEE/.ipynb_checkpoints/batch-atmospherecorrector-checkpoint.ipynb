{
 "cells": [
  {
   "cell_type": "markdown",
   "metadata": {},
   "source": [
    "First, import and initiailize the python earthengine api package"
   ]
  },
  {
   "cell_type": "code",
   "execution_count": 1,
   "metadata": {},
   "outputs": [
    {
     "name": "stdout",
     "output_type": "stream",
     "text": [
      "The Earth Engine package initialized successfully!\n"
     ]
    }
   ],
   "source": [
    "import ee\n",
    "try:\n",
    "  ee.Initialize()\n",
    "  print('The Earth Engine package initialized successfully!')\n",
    "except ee.EEException as e:\n",
    "  print('The Earth Engine package failed to initialize!')\n",
    "except:\n",
    "    print(\"Unexpected error:\", sys.exc_info()[0])\n",
    "    raise"
   ]
  },
  {
   "cell_type": "markdown",
   "metadata": {},
   "source": [
    "If the initialization succeeded, you can stop here. Congratulations! If not, continue on below...\n",
    "\n",
    "#### Authenticating to the Earth Engine servers\n",
    "If the initialization process failed, you will need to authenticate the Jupyter Notebook server so that it can communicate with the Earth Engine servers. You can initiate the authentication process by running the following bash command."
   ]
  },
  {
   "cell_type": "code",
   "execution_count": 8,
   "metadata": {},
   "outputs": [
    {
     "name": "stdout",
     "output_type": "stream",
     "text": [
      "Paste the following address into a web browser:\n",
      "\n",
      "    https://accounts.google.com/o/oauth2/auth?client_id=517222506229-vsmmajv00ul0bs7p89v5m89qs8eb9359.apps.googleusercontent.com&scope=https%3A%2F%2Fwww.googleapis.com%2Fauth%2Fearthengine+https%3A%2F%2Fwww.googleapis.com%2Fauth%2Fdevstorage.full_control&redirect_uri=urn%3Aietf%3Awg%3Aoauth%3A2.0%3Aoob&response_type=code\n",
      "\n",
      "On the web page, please authorize access to your Earth Engine account and copy the authentication code. Next authenticate with the following command:\n",
      "\n",
      "    earthengine authenticate --authorization-code=PLACE_AUTH_CODE_HERE\n",
      "\n"
     ]
    }
   ],
   "source": [
    "%%bash\n",
    "earthengine authenticate --quiet"
   ]
  },
  {
   "cell_type": "markdown",
   "metadata": {},
   "source": [
    "Once you have obtained an authorization code from the previous step, paste the code into the following cell and run it."
   ]
  },
  {
   "cell_type": "code",
   "execution_count": 9,
   "metadata": {},
   "outputs": [
    {
     "name": "stdout",
     "output_type": "stream",
     "text": [
      "\n",
      "Successfully saved authorization token.\n"
     ]
    }
   ],
   "source": [
    "%%bash\n",
    "earthengine authenticate --authorization-code=PLACE_AUTH_CODE_HERE"
   ]
  },
  {
   "cell_type": "code",
   "execution_count": 2,
   "metadata": {},
   "outputs": [],
   "source": [
    "# standard modules\n",
    "import ee\n",
    "from pprint import pprint\n",
    "import datetime\n",
    "import math\n",
    "import pickle\n",
    "ee.Initialize()\n",
    "import os\n",
    "import sys\n",
    "from geetools import ui, cloud_mask, batch\n",
    "\n",
    "# package modules\n",
    "from atmcorr.atmospheric import Atmospheric\n",
    "from atmcorr.timeSeries import timeSeries\n"
   ]
  },
  {
   "cell_type": "markdown",
   "metadata": {},
   "source": [
    "## User Inputs"
   ]
  },
  {
   "cell_type": "code",
   "execution_count": 3,
   "metadata": {},
   "outputs": [],
   "source": [
    "# start and end of time series\n",
    "START_DATE = '2017-01-01'  # YYYY-MM-DD\n",
    "STOP_DATE = '2017-12-31'  # YYYY-MM-DD\n",
    "\n",
    "# define YOUR GEE asset path (check the Code Editor on the Google Earth Engine Platform)\n",
    "assetPath = 'users/visithuruvixen/'\n",
    "\n",
    "# Location\n",
    "studyarea = ee.Geometry.Rectangle(8.212529728804157, 60.11440450337899, 8.025762150679157, 60.02086917002816)\n",
    "#sitepoint= ee.Geometry.Point(8.1191,60.0676) #fill in the more accuracte coordinates here\n",
    "\n",
    "# Description of time period and location\n",
    "assetID = 'year2017'"
   ]
  },
  {
   "cell_type": "markdown",
   "metadata": {},
   "source": [
    "Other variables that need setting here"
   ]
  },
  {
   "cell_type": "code",
   "execution_count": 4,
   "metadata": {},
   "outputs": [],
   "source": [
    "# satellite missions, \n",
    "MISSIONS = ['Sentinel2']\n",
    "NO_OF_BANDS = 13\n",
    "\n",
    "# Location of iLUTs (can keep default if you clone entire git repository to your machine)\n",
    "DIRPATH = './files/iLUTs/S2A_MSI/Continental/view_zenith_0/'\n",
    "\n",
    "# setting parameter for atmospheric correction\n",
    "SRTM = ee.Image('USGS/GMTED2010')  # Make sure that your study area is covered by this elevation dataset\n",
    "altitude = SRTM.reduceRegion(reducer=ee.Reducer.mean(), geometry=studyarea.centroid()).get('be75').getInfo() # insert correct name for elevation variable from dataset\n",
    "KM = altitude/1000  # i.e. Py6S uses units of kilometers"
   ]
  },
  {
   "cell_type": "code",
   "execution_count": 26,
   "metadata": {},
   "outputs": [
    {
     "name": "stdout",
     "output_type": "stream",
     "text": [
      "Loading interpolated look up tables (.ilut) for Sentinel2..\n",
      "Success\n",
      "Getting data from Earth Engine.. \n"
     ]
    },
    {
     "ename": "AttributeError",
     "evalue": "'ServerNotFoundError' object has no attribute 'message'",
     "output_type": "error",
     "traceback": [
      "\u001b[0;31m---------------------------------------------------------------------------\u001b[0m",
      "\u001b[0;31mgaierror\u001b[0m                                  Traceback (most recent call last)",
      "\u001b[0;32m~/.local/lib/python3.6/site-packages/httplib2/__init__.py\u001b[0m in \u001b[0;36m_conn_request\u001b[0;34m(self, conn, request_uri, method, body, headers)\u001b[0m\n\u001b[1;32m   1500\u001b[0m                 \u001b[0;32mif\u001b[0m \u001b[0mconn\u001b[0m\u001b[0;34m.\u001b[0m\u001b[0msock\u001b[0m \u001b[0;32mis\u001b[0m \u001b[0;32mNone\u001b[0m\u001b[0;34m:\u001b[0m\u001b[0;34m\u001b[0m\u001b[0;34m\u001b[0m\u001b[0m\n\u001b[0;32m-> 1501\u001b[0;31m                     \u001b[0mconn\u001b[0m\u001b[0;34m.\u001b[0m\u001b[0mconnect\u001b[0m\u001b[0;34m(\u001b[0m\u001b[0;34m)\u001b[0m\u001b[0;34m\u001b[0m\u001b[0;34m\u001b[0m\u001b[0m\n\u001b[0m\u001b[1;32m   1502\u001b[0m                 \u001b[0mconn\u001b[0m\u001b[0;34m.\u001b[0m\u001b[0mrequest\u001b[0m\u001b[0;34m(\u001b[0m\u001b[0mmethod\u001b[0m\u001b[0;34m,\u001b[0m \u001b[0mrequest_uri\u001b[0m\u001b[0;34m,\u001b[0m \u001b[0mbody\u001b[0m\u001b[0;34m,\u001b[0m \u001b[0mheaders\u001b[0m\u001b[0;34m)\u001b[0m\u001b[0;34m\u001b[0m\u001b[0;34m\u001b[0m\u001b[0m\n",
      "\u001b[0;32m~/.local/lib/python3.6/site-packages/httplib2/__init__.py\u001b[0m in \u001b[0;36mconnect\u001b[0;34m(self)\u001b[0m\n\u001b[1;32m   1269\u001b[0m \u001b[0;34m\u001b[0m\u001b[0m\n\u001b[0;32m-> 1270\u001b[0;31m         \u001b[0maddress_info\u001b[0m \u001b[0;34m=\u001b[0m \u001b[0msocket\u001b[0m\u001b[0;34m.\u001b[0m\u001b[0mgetaddrinfo\u001b[0m\u001b[0;34m(\u001b[0m\u001b[0mhost\u001b[0m\u001b[0;34m,\u001b[0m \u001b[0mport\u001b[0m\u001b[0;34m,\u001b[0m \u001b[0;36m0\u001b[0m\u001b[0;34m,\u001b[0m \u001b[0msocket\u001b[0m\u001b[0;34m.\u001b[0m\u001b[0mSOCK_STREAM\u001b[0m\u001b[0;34m)\u001b[0m\u001b[0;34m\u001b[0m\u001b[0;34m\u001b[0m\u001b[0m\n\u001b[0m\u001b[1;32m   1271\u001b[0m         \u001b[0;32mfor\u001b[0m \u001b[0mfamily\u001b[0m\u001b[0;34m,\u001b[0m \u001b[0msocktype\u001b[0m\u001b[0;34m,\u001b[0m \u001b[0mproto\u001b[0m\u001b[0;34m,\u001b[0m \u001b[0mcanonname\u001b[0m\u001b[0;34m,\u001b[0m \u001b[0msockaddr\u001b[0m \u001b[0;32min\u001b[0m \u001b[0maddress_info\u001b[0m\u001b[0;34m:\u001b[0m\u001b[0;34m\u001b[0m\u001b[0;34m\u001b[0m\u001b[0m\n",
      "\u001b[0;32m~/anaconda3/envs/geepy6s-env/lib/python3.6/socket.py\u001b[0m in \u001b[0;36mgetaddrinfo\u001b[0;34m(host, port, family, type, proto, flags)\u001b[0m\n\u001b[1;32m    744\u001b[0m     \u001b[0maddrlist\u001b[0m \u001b[0;34m=\u001b[0m \u001b[0;34m[\u001b[0m\u001b[0;34m]\u001b[0m\u001b[0;34m\u001b[0m\u001b[0;34m\u001b[0m\u001b[0m\n\u001b[0;32m--> 745\u001b[0;31m     \u001b[0;32mfor\u001b[0m \u001b[0mres\u001b[0m \u001b[0;32min\u001b[0m \u001b[0m_socket\u001b[0m\u001b[0;34m.\u001b[0m\u001b[0mgetaddrinfo\u001b[0m\u001b[0;34m(\u001b[0m\u001b[0mhost\u001b[0m\u001b[0;34m,\u001b[0m \u001b[0mport\u001b[0m\u001b[0;34m,\u001b[0m \u001b[0mfamily\u001b[0m\u001b[0;34m,\u001b[0m \u001b[0mtype\u001b[0m\u001b[0;34m,\u001b[0m \u001b[0mproto\u001b[0m\u001b[0;34m,\u001b[0m \u001b[0mflags\u001b[0m\u001b[0;34m)\u001b[0m\u001b[0;34m:\u001b[0m\u001b[0;34m\u001b[0m\u001b[0;34m\u001b[0m\u001b[0m\n\u001b[0m\u001b[1;32m    746\u001b[0m         \u001b[0maf\u001b[0m\u001b[0;34m,\u001b[0m \u001b[0msocktype\u001b[0m\u001b[0;34m,\u001b[0m \u001b[0mproto\u001b[0m\u001b[0;34m,\u001b[0m \u001b[0mcanonname\u001b[0m\u001b[0;34m,\u001b[0m \u001b[0msa\u001b[0m \u001b[0;34m=\u001b[0m \u001b[0mres\u001b[0m\u001b[0;34m\u001b[0m\u001b[0;34m\u001b[0m\u001b[0m\n",
      "\u001b[0;31mgaierror\u001b[0m: [Errno -2] Name or service not known",
      "\nDuring handling of the above exception, another exception occurred:\n",
      "\u001b[0;31mServerNotFoundError\u001b[0m                       Traceback (most recent call last)",
      "\u001b[0;32m~/.local/lib/python3.6/site-packages/ee/data.py\u001b[0m in \u001b[0;36msend_with_backoff\u001b[0;34m(retries)\u001b[0m\n\u001b[1;32m   1138\u001b[0m       response, content = http.request(\n\u001b[0;32m-> 1139\u001b[0;31m           url, method=opt_method, body=payload, headers=headers)\n\u001b[0m\u001b[1;32m   1140\u001b[0m       \u001b[0;32mif\u001b[0m \u001b[0mresponse\u001b[0m\u001b[0;34m.\u001b[0m\u001b[0mstatus\u001b[0m \u001b[0;34m==\u001b[0m \u001b[0;36m429\u001b[0m\u001b[0;34m:\u001b[0m\u001b[0;34m\u001b[0m\u001b[0;34m\u001b[0m\u001b[0m\n",
      "\u001b[0;32m~/.local/lib/python3.6/site-packages/oauth2client/transport.py\u001b[0m in \u001b[0;36mnew_request\u001b[0;34m(uri, method, body, headers, redirections, connection_type)\u001b[0m\n\u001b[1;32m    174\u001b[0m                                 \u001b[0mclean_headers\u001b[0m\u001b[0;34m(\u001b[0m\u001b[0mheaders\u001b[0m\u001b[0;34m)\u001b[0m\u001b[0;34m,\u001b[0m\u001b[0;34m\u001b[0m\u001b[0;34m\u001b[0m\u001b[0m\n\u001b[0;32m--> 175\u001b[0;31m                                 redirections, connection_type)\n\u001b[0m\u001b[1;32m    176\u001b[0m \u001b[0;34m\u001b[0m\u001b[0m\n",
      "\u001b[0;32m~/.local/lib/python3.6/site-packages/oauth2client/transport.py\u001b[0m in \u001b[0;36mrequest\u001b[0;34m(http, uri, method, body, headers, redirections, connection_type)\u001b[0m\n\u001b[1;32m    281\u001b[0m                          \u001b[0mredirections\u001b[0m\u001b[0;34m=\u001b[0m\u001b[0mredirections\u001b[0m\u001b[0;34m,\u001b[0m\u001b[0;34m\u001b[0m\u001b[0;34m\u001b[0m\u001b[0m\n\u001b[0;32m--> 282\u001b[0;31m                          connection_type=connection_type)\n\u001b[0m\u001b[1;32m    283\u001b[0m \u001b[0;34m\u001b[0m\u001b[0m\n",
      "\u001b[0;32m~/.local/lib/python3.6/site-packages/httplib2/__init__.py\u001b[0m in \u001b[0;36mrequest\u001b[0;34m(self, uri, method, body, headers, redirections, connection_type)\u001b[0m\n\u001b[1;32m   1923\u001b[0m                         \u001b[0mredirections\u001b[0m\u001b[0;34m,\u001b[0m\u001b[0;34m\u001b[0m\u001b[0;34m\u001b[0m\u001b[0m\n\u001b[0;32m-> 1924\u001b[0;31m                         \u001b[0mcachekey\u001b[0m\u001b[0;34m,\u001b[0m\u001b[0;34m\u001b[0m\u001b[0;34m\u001b[0m\u001b[0m\n\u001b[0m\u001b[1;32m   1925\u001b[0m                     )\n",
      "\u001b[0;32m~/.local/lib/python3.6/site-packages/httplib2/__init__.py\u001b[0m in \u001b[0;36m_request\u001b[0;34m(self, conn, host, absolute_uri, request_uri, method, body, headers, redirections, cachekey)\u001b[0m\n\u001b[1;32m   1594\u001b[0m         (response, content) = self._conn_request(\n\u001b[0;32m-> 1595\u001b[0;31m             \u001b[0mconn\u001b[0m\u001b[0;34m,\u001b[0m \u001b[0mrequest_uri\u001b[0m\u001b[0;34m,\u001b[0m \u001b[0mmethod\u001b[0m\u001b[0;34m,\u001b[0m \u001b[0mbody\u001b[0m\u001b[0;34m,\u001b[0m \u001b[0mheaders\u001b[0m\u001b[0;34m\u001b[0m\u001b[0;34m\u001b[0m\u001b[0m\n\u001b[0m\u001b[1;32m   1596\u001b[0m         )\n",
      "\u001b[0;32m~/.local/lib/python3.6/site-packages/httplib2/__init__.py\u001b[0m in \u001b[0;36m_conn_request\u001b[0;34m(self, conn, request_uri, method, body, headers)\u001b[0m\n\u001b[1;32m   1507\u001b[0m                 \u001b[0mconn\u001b[0m\u001b[0;34m.\u001b[0m\u001b[0mclose\u001b[0m\u001b[0;34m(\u001b[0m\u001b[0;34m)\u001b[0m\u001b[0;34m\u001b[0m\u001b[0;34m\u001b[0m\u001b[0m\n\u001b[0;32m-> 1508\u001b[0;31m                 \u001b[0;32mraise\u001b[0m \u001b[0mServerNotFoundError\u001b[0m\u001b[0;34m(\u001b[0m\u001b[0;34m\"Unable to find the server at %s\"\u001b[0m \u001b[0;34m%\u001b[0m \u001b[0mconn\u001b[0m\u001b[0;34m.\u001b[0m\u001b[0mhost\u001b[0m\u001b[0;34m)\u001b[0m\u001b[0;34m\u001b[0m\u001b[0;34m\u001b[0m\u001b[0m\n\u001b[0m\u001b[1;32m   1509\u001b[0m             \u001b[0;32mexcept\u001b[0m \u001b[0msocket\u001b[0m\u001b[0;34m.\u001b[0m\u001b[0merror\u001b[0m \u001b[0;32mas\u001b[0m \u001b[0me\u001b[0m\u001b[0;34m:\u001b[0m\u001b[0;34m\u001b[0m\u001b[0;34m\u001b[0m\u001b[0m\n",
      "\u001b[0;31mServerNotFoundError\u001b[0m: Unable to find the server at earthengine.googleapis.com",
      "\nDuring handling of the above exception, another exception occurred:\n",
      "\u001b[0;31mAttributeError\u001b[0m                            Traceback (most recent call last)",
      "\u001b[0;32m<ipython-input-26-859ef12aeab1>\u001b[0m in \u001b[0;36m<module>\u001b[0;34m\u001b[0m\n\u001b[1;32m      1\u001b[0m \u001b[0mtarget\u001b[0m \u001b[0;34m=\u001b[0m \u001b[0massetID\u001b[0m\u001b[0;34m\u001b[0m\u001b[0;34m\u001b[0m\u001b[0m\n\u001b[1;32m      2\u001b[0m \u001b[0;31m# the following creates interpolated lookup tables.\u001b[0m\u001b[0;34m\u001b[0m\u001b[0;34m\u001b[0m\u001b[0;34m\u001b[0m\u001b[0m\n\u001b[0;32m----> 3\u001b[0;31m \u001b[0m_\u001b[0m \u001b[0;34m=\u001b[0m \u001b[0mtimeSeries\u001b[0m\u001b[0;34m(\u001b[0m\u001b[0mtarget\u001b[0m\u001b[0;34m,\u001b[0m \u001b[0mstudyarea\u001b[0m\u001b[0;34m,\u001b[0m \u001b[0mSTART_DATE\u001b[0m\u001b[0;34m,\u001b[0m \u001b[0mSTOP_DATE\u001b[0m\u001b[0;34m,\u001b[0m \u001b[0mMISSIONS\u001b[0m\u001b[0;34m)\u001b[0m \u001b[0;31m#You can also create lookup tables for other missions if desired\u001b[0m\u001b[0;34m\u001b[0m\u001b[0;34m\u001b[0m\u001b[0m\n\u001b[0m",
      "\u001b[0;32m~/Documents/S2DataProcessing/GEE/atmcorr/timeSeries.py\u001b[0m in \u001b[0;36mtimeSeries\u001b[0;34m(target, geom, startDate, stopDate, missions, removeClouds)\u001b[0m\n\u001b[1;32m    122\u001b[0m \u001b[0;34m\u001b[0m\u001b[0m\n\u001b[1;32m    123\u001b[0m     \u001b[0;31m# run extraction\u001b[0m\u001b[0;34m\u001b[0m\u001b[0;34m\u001b[0m\u001b[0;34m\u001b[0m\u001b[0m\n\u001b[0;32m--> 124\u001b[0;31m     \u001b[0mallTimeSeries\u001b[0m \u001b[0;34m=\u001b[0m \u001b[0mextractAllTimeSeries\u001b[0m\u001b[0;34m(\u001b[0m\u001b[0mtarget\u001b[0m\u001b[0;34m,\u001b[0m \u001b[0mgeom\u001b[0m\u001b[0;34m,\u001b[0m \u001b[0mstartDate\u001b[0m\u001b[0;34m,\u001b[0m \u001b[0mstopDate\u001b[0m\u001b[0;34m,\u001b[0m \u001b[0mmissions\u001b[0m\u001b[0;34m)\u001b[0m\u001b[0;34m\u001b[0m\u001b[0;34m\u001b[0m\u001b[0m\n\u001b[0m\u001b[1;32m    125\u001b[0m \u001b[0;34m\u001b[0m\u001b[0m\n\u001b[1;32m    126\u001b[0m     \u001b[0;31m# save to excel\u001b[0m\u001b[0;34m\u001b[0m\u001b[0;34m\u001b[0m\u001b[0;34m\u001b[0m\u001b[0m\n",
      "\u001b[0;32m~/Documents/S2DataProcessing/GEE/atmcorr/timeSeries.py\u001b[0m in \u001b[0;36mextractAllTimeSeries\u001b[0;34m(target, geom, startDate, stopDate, missions, removeClouds)\u001b[0m\n\u001b[1;32m     58\u001b[0m     \u001b[0;32mfor\u001b[0m \u001b[0mmission\u001b[0m \u001b[0;32min\u001b[0m \u001b[0mmissions\u001b[0m\u001b[0;34m:\u001b[0m\u001b[0;34m\u001b[0m\u001b[0;34m\u001b[0m\u001b[0m\n\u001b[1;32m     59\u001b[0m \u001b[0;34m\u001b[0m\u001b[0m\n\u001b[0;32m---> 60\u001b[0;31m         \u001b[0mtimeseries\u001b[0m \u001b[0;34m=\u001b[0m \u001b[0mtimeseries_extrator\u001b[0m\u001b[0;34m(\u001b[0m\u001b[0mgeom\u001b[0m\u001b[0;34m,\u001b[0m \u001b[0mstartDate\u001b[0m\u001b[0;34m,\u001b[0m \u001b[0mstopDate\u001b[0m\u001b[0;34m,\u001b[0m \u001b[0mmission\u001b[0m\u001b[0;34m,\u001b[0m \u001b[0mremoveClouds\u001b[0m\u001b[0;34m=\u001b[0m\u001b[0mremoveClouds\u001b[0m\u001b[0;34m)\u001b[0m\u001b[0;34m\u001b[0m\u001b[0;34m\u001b[0m\u001b[0m\n\u001b[0m\u001b[1;32m     61\u001b[0m \u001b[0;34m\u001b[0m\u001b[0m\n\u001b[1;32m     62\u001b[0m         \u001b[0;31m# names of wavebands\u001b[0m\u001b[0;34m\u001b[0m\u001b[0;34m\u001b[0m\u001b[0;34m\u001b[0m\u001b[0m\n",
      "\u001b[0;32m~/Documents/S2DataProcessing/GEE/atmcorr/timeSeries.py\u001b[0m in \u001b[0;36mtimeseries_extrator\u001b[0;34m(geom, startDate, stopDate, mission, removeClouds)\u001b[0m\n\u001b[1;32m     22\u001b[0m     request = request_meanRadiance(geom, ee.Date(startDate), ee.Date(stopDate), \\\n\u001b[1;32m     23\u001b[0m                                    mission, removeClouds)\n\u001b[0;32m---> 24\u001b[0;31m     \u001b[0mmeanRadiance\u001b[0m \u001b[0;34m=\u001b[0m \u001b[0mrequest\u001b[0m\u001b[0;34m.\u001b[0m\u001b[0mgetInfo\u001b[0m\u001b[0;34m(\u001b[0m\u001b[0;34m)\u001b[0m\u001b[0;34m\u001b[0m\u001b[0;34m\u001b[0m\u001b[0m\n\u001b[0m\u001b[1;32m     25\u001b[0m     \u001b[0mprint\u001b[0m\u001b[0;34m(\u001b[0m\u001b[0;34m'Data collection complete'\u001b[0m\u001b[0;34m)\u001b[0m\u001b[0;34m\u001b[0m\u001b[0;34m\u001b[0m\u001b[0m\n\u001b[1;32m     26\u001b[0m \u001b[0;34m\u001b[0m\u001b[0m\n",
      "\u001b[0;32m~/.local/lib/python3.6/site-packages/ee/collection.py\u001b[0m in \u001b[0;36mgetInfo\u001b[0;34m(self)\u001b[0m\n\u001b[1;32m    125\u001b[0m            \u001b[0mproperties\u001b[0m\u001b[0;34m.\u001b[0m\u001b[0;34m\u001b[0m\u001b[0;34m\u001b[0m\u001b[0m\n\u001b[1;32m    126\u001b[0m     \"\"\"\n\u001b[0;32m--> 127\u001b[0;31m     \u001b[0;32mreturn\u001b[0m \u001b[0msuper\u001b[0m\u001b[0;34m(\u001b[0m\u001b[0mCollection\u001b[0m\u001b[0;34m,\u001b[0m \u001b[0mself\u001b[0m\u001b[0;34m)\u001b[0m\u001b[0;34m.\u001b[0m\u001b[0mgetInfo\u001b[0m\u001b[0;34m(\u001b[0m\u001b[0;34m)\u001b[0m\u001b[0;34m\u001b[0m\u001b[0;34m\u001b[0m\u001b[0m\n\u001b[0m\u001b[1;32m    128\u001b[0m \u001b[0;34m\u001b[0m\u001b[0m\n\u001b[1;32m    129\u001b[0m   \u001b[0;32mdef\u001b[0m \u001b[0mlimit\u001b[0m\u001b[0;34m(\u001b[0m\u001b[0mself\u001b[0m\u001b[0;34m,\u001b[0m \u001b[0mmaximum\u001b[0m\u001b[0;34m,\u001b[0m \u001b[0mopt_property\u001b[0m\u001b[0;34m=\u001b[0m\u001b[0;32mNone\u001b[0m\u001b[0;34m,\u001b[0m \u001b[0mopt_ascending\u001b[0m\u001b[0;34m=\u001b[0m\u001b[0;32mNone\u001b[0m\u001b[0;34m)\u001b[0m\u001b[0;34m:\u001b[0m\u001b[0;34m\u001b[0m\u001b[0;34m\u001b[0m\u001b[0m\n",
      "\u001b[0;32m~/.local/lib/python3.6/site-packages/ee/computedobject.py\u001b[0m in \u001b[0;36mgetInfo\u001b[0;34m(self)\u001b[0m\n\u001b[1;32m     93\u001b[0m       \u001b[0mThe\u001b[0m \u001b[0mobject\u001b[0m \u001b[0mcan\u001b[0m \u001b[0mevaluate\u001b[0m \u001b[0mto\u001b[0m \u001b[0manything\u001b[0m\u001b[0;34m.\u001b[0m\u001b[0;34m\u001b[0m\u001b[0;34m\u001b[0m\u001b[0m\n\u001b[1;32m     94\u001b[0m     \"\"\"\n\u001b[0;32m---> 95\u001b[0;31m     \u001b[0;32mreturn\u001b[0m \u001b[0mdata\u001b[0m\u001b[0;34m.\u001b[0m\u001b[0mcomputeValue\u001b[0m\u001b[0;34m(\u001b[0m\u001b[0mself\u001b[0m\u001b[0;34m)\u001b[0m\u001b[0;34m\u001b[0m\u001b[0;34m\u001b[0m\u001b[0m\n\u001b[0m\u001b[1;32m     96\u001b[0m \u001b[0;34m\u001b[0m\u001b[0m\n\u001b[1;32m     97\u001b[0m   \u001b[0;32mdef\u001b[0m \u001b[0mencode\u001b[0m\u001b[0;34m(\u001b[0m\u001b[0mself\u001b[0m\u001b[0;34m,\u001b[0m \u001b[0mencoder\u001b[0m\u001b[0;34m)\u001b[0m\u001b[0;34m:\u001b[0m\u001b[0;34m\u001b[0m\u001b[0;34m\u001b[0m\u001b[0m\n",
      "\u001b[0;32m~/.local/lib/python3.6/site-packages/ee/data.py\u001b[0m in \u001b[0;36mcomputeValue\u001b[0;34m(obj)\u001b[0m\n\u001b[1;32m    475\u001b[0m     \u001b[0mThe\u001b[0m \u001b[0mresult\u001b[0m \u001b[0mof\u001b[0m \u001b[0mevaluating\u001b[0m \u001b[0mthat\u001b[0m \u001b[0mobject\u001b[0m \u001b[0mon\u001b[0m \u001b[0mthe\u001b[0m \u001b[0mserver\u001b[0m\u001b[0;34m.\u001b[0m\u001b[0;34m\u001b[0m\u001b[0;34m\u001b[0m\u001b[0m\n\u001b[1;32m    476\u001b[0m   \"\"\"\n\u001b[0;32m--> 477\u001b[0;31m   \u001b[0;32mreturn\u001b[0m \u001b[0msend_\u001b[0m\u001b[0;34m(\u001b[0m\u001b[0;34m'/value'\u001b[0m\u001b[0;34m,\u001b[0m \u001b[0;34m(\u001b[0m\u001b[0;34m{\u001b[0m\u001b[0;34m'json'\u001b[0m\u001b[0;34m:\u001b[0m \u001b[0mobj\u001b[0m\u001b[0;34m.\u001b[0m\u001b[0mserialize\u001b[0m\u001b[0;34m(\u001b[0m\u001b[0;34m)\u001b[0m\u001b[0;34m,\u001b[0m \u001b[0;34m'json_format'\u001b[0m\u001b[0;34m:\u001b[0m \u001b[0;34m'v2'\u001b[0m\u001b[0;34m}\u001b[0m\u001b[0;34m)\u001b[0m\u001b[0;34m)\u001b[0m\u001b[0;34m\u001b[0m\u001b[0;34m\u001b[0m\u001b[0m\n\u001b[0m\u001b[1;32m    478\u001b[0m \u001b[0;34m\u001b[0m\u001b[0m\n\u001b[1;32m    479\u001b[0m \u001b[0;34m\u001b[0m\u001b[0m\n",
      "\u001b[0;32m~/.local/lib/python3.6/site-packages/ee/data.py\u001b[0m in \u001b[0;36msend_\u001b[0;34m(path, params, opt_method, opt_raw)\u001b[0m\n\u001b[1;32m   1146\u001b[0m     \u001b[0;32mreturn\u001b[0m \u001b[0mresponse\u001b[0m\u001b[0;34m,\u001b[0m \u001b[0mcontent\u001b[0m\u001b[0;34m\u001b[0m\u001b[0;34m\u001b[0m\u001b[0m\n\u001b[1;32m   1147\u001b[0m \u001b[0;34m\u001b[0m\u001b[0m\n\u001b[0;32m-> 1148\u001b[0;31m   \u001b[0mresponse\u001b[0m\u001b[0;34m,\u001b[0m \u001b[0mcontent\u001b[0m \u001b[0;34m=\u001b[0m \u001b[0msend_with_backoff\u001b[0m\u001b[0;34m(\u001b[0m\u001b[0;34m)\u001b[0m\u001b[0;34m\u001b[0m\u001b[0;34m\u001b[0m\u001b[0m\n\u001b[0m\u001b[1;32m   1149\u001b[0m \u001b[0;34m\u001b[0m\u001b[0m\n\u001b[1;32m   1150\u001b[0m   \u001b[0;31m# Call the profile hook if present. Note that this is done before we handle\u001b[0m\u001b[0;34m\u001b[0m\u001b[0;34m\u001b[0m\u001b[0;34m\u001b[0m\u001b[0m\n",
      "\u001b[0;32m~/.local/lib/python3.6/site-packages/ee/data.py\u001b[0m in \u001b[0;36msend_with_backoff\u001b[0;34m(retries)\u001b[0m\n\u001b[1;32m   1143\u001b[0m           \u001b[0mresponse\u001b[0m\u001b[0;34m,\u001b[0m \u001b[0mcontent\u001b[0m \u001b[0;34m=\u001b[0m \u001b[0msend_with_backoff\u001b[0m\u001b[0;34m(\u001b[0m\u001b[0mretries\u001b[0m \u001b[0;34m+\u001b[0m \u001b[0;36m1\u001b[0m\u001b[0;34m)\u001b[0m\u001b[0;34m\u001b[0m\u001b[0;34m\u001b[0m\u001b[0m\n\u001b[1;32m   1144\u001b[0m     \u001b[0;32mexcept\u001b[0m \u001b[0mhttplib2\u001b[0m\u001b[0;34m.\u001b[0m\u001b[0mHttpLib2Error\u001b[0m \u001b[0;32mas\u001b[0m \u001b[0me\u001b[0m\u001b[0;34m:\u001b[0m\u001b[0;34m\u001b[0m\u001b[0;34m\u001b[0m\u001b[0m\n\u001b[0;32m-> 1145\u001b[0;31m       \u001b[0;32mraise\u001b[0m \u001b[0mee_exception\u001b[0m\u001b[0;34m.\u001b[0m\u001b[0mEEException\u001b[0m\u001b[0;34m(\u001b[0m\u001b[0;34m'Unexpected HTTP error: %s'\u001b[0m \u001b[0;34m%\u001b[0m \u001b[0me\u001b[0m\u001b[0;34m.\u001b[0m\u001b[0mmessage\u001b[0m\u001b[0;34m)\u001b[0m\u001b[0;34m\u001b[0m\u001b[0;34m\u001b[0m\u001b[0m\n\u001b[0m\u001b[1;32m   1146\u001b[0m     \u001b[0;32mreturn\u001b[0m \u001b[0mresponse\u001b[0m\u001b[0;34m,\u001b[0m \u001b[0mcontent\u001b[0m\u001b[0;34m\u001b[0m\u001b[0;34m\u001b[0m\u001b[0m\n\u001b[1;32m   1147\u001b[0m \u001b[0;34m\u001b[0m\u001b[0m\n",
      "\u001b[0;31mAttributeError\u001b[0m: 'ServerNotFoundError' object has no attribute 'message'"
     ]
    }
   ],
   "source": [
    "target = assetID\n",
    "# the following creates interpolated lookup tables.\n",
    "_ = timeSeries(target, studyarea, START_DATE, STOP_DATE, MISSIONS) #You can also create lookup tables for other missions if desired "
   ]
  },
  {
   "cell_type": "markdown",
   "metadata": {},
   "source": [
    "### Getting an Image Collection from the GEE Server"
   ]
  },
  {
   "cell_type": "code",
   "execution_count": 5,
   "metadata": {},
   "outputs": [],
   "source": [
    "# The Sentinel-2 image collection\n",
    "S2 = ee.ImageCollection('COPERNICUS/S2').filterBounds(studyarea)\\\n",
    "       .filterDate(START_DATE, STOP_DATE).sort('system:time_start')\\\n",
    "       .map(cloud_mask.sentinel2()) # applies an ESA cloud mask on all images (L1C)\n",
    "S2List = S2.toList(S2.size()) # must loop through lists\n",
    "\n",
    "NO_OF_IMAGES = S2.size().getInfo()  # no. of images in the collection"
   ]
  },
  {
   "cell_type": "markdown",
   "metadata": {},
   "source": [
    "### defining functions for atmospheric correction"
   ]
  },
  {
   "cell_type": "code",
   "execution_count": 6,
   "metadata": {},
   "outputs": [],
   "source": [
    "def atm_corr_image(imageInfo: dict) -> dict:\n",
    "    \"\"\"Retrieves atmospheric params from image.\n",
    "\n",
    "    imageInfo is a dictionary created from an ee.Image object\n",
    "    \"\"\"\n",
    "    atmParams = {}\n",
    "    # Python uses seconds, EE uses milliseconds:\n",
    "    scene_date = datetime.datetime.utcfromtimestamp(imageInfo['system:time_start']/1000)\n",
    "    dt1 = ee.Date(str(scene_date).rsplit(sep=' ')[0])\n",
    "\n",
    "    atmParams['doy'] = scene_date.timetuple().tm_yday\n",
    "    atmParams['solar_z'] = imageInfo['MEAN_SOLAR_ZENITH_ANGLE']\n",
    "    atmParams['h2o'] = Atmospheric.water(geom, dt1).getInfo()\n",
    "    atmParams['o3'] = Atmospheric.ozone(geom, dt1).getInfo()\n",
    "    atmParams['aot'] = Atmospheric.aerosol(geom, dt1).getInfo()\n",
    "    return atmParams\n",
    "\n",
    "\n",
    "def get_corr_coef(imageInfo: dict, atmParams: dict) -> list:\n",
    "    \"\"\"Gets correction coefficients for each band in the image.\n",
    "\n",
    "    Uses DIRPATH global variable\n",
    "    Uses NO_OF_BANDS global variable\n",
    "    Uses KM global variable\n",
    "    Returns list of 2-length lists\n",
    "    \"\"\"\n",
    "    corr_coefs = []\n",
    "    # string list with padding of 2\n",
    "    bandNos = [str(i).zfill(2) for i in range(1, NO_OF_BANDS + 1)]\n",
    "    for band in bandNos:\n",
    "        filepath = DIRPATH + 'S2A_MSI_' + band + '.ilut'\n",
    "        with open(filepath, 'rb') as ilut_file:\n",
    "            iluTable = pickle.load(ilut_file)\n",
    "        a, b = iluTable(atmParams['solar_z'], atmParams['h2o'], atmParams['o3'], atmParams['aot'], KM)\n",
    "        elliptical_orbit_correction = 0.03275104*math.cos(atmParams['doy']/59.66638337) + 0.96804905\n",
    "        a *= elliptical_orbit_correction\n",
    "        b *= elliptical_orbit_correction\n",
    "        corr_coefs.append([a, b])\n",
    "    return corr_coefs\n",
    "\n",
    "\n",
    "def toa_to_rad_multiplier(bandname: str, imageInfo: dict, atmParams: dict) -> float:\n",
    "    \"\"\"Returns a multiplier for converting TOA reflectance to radiance\n",
    "\n",
    "    bandname is a string like 'B1'\n",
    "    \"\"\"\n",
    "    ESUN = imageInfo['SOLAR_IRRADIANCE_'+bandname]\n",
    "    # solar exoatmospheric spectral irradiance\n",
    "    solar_angle_correction = math.cos(math.radians(atmParams['solar_z']))\n",
    "    # Earth-Sun distance (from day of year)\n",
    "    d = 1 - 0.01672 * math.cos(0.9856 * (atmParams['doy']-4))\n",
    "    # http://physics.stackexchange.com/questions/177949/earth-sun-distance-on-a-given-day-of-the-year\n",
    "    # conversion factor\n",
    "    multiplier = ESUN*solar_angle_correction/(math.pi*d**2)\n",
    "    # at-sensor radiance\n",
    "    return multiplier\n",
    "\n",
    "\n",
    "def atm_corr_band(image, imageInfo: dict, atmParams: dict):\n",
    "    \"\"\"Atmospherically correct image\n",
    "\n",
    "    Converts toa reflectance to radiance.\n",
    "    Applies correction coefficients to get surface reflectance\n",
    "    Returns ee.Image object\n",
    "    \"\"\"\n",
    "    oldImage = ee.Image(image).divide(10000)\n",
    "    newImage = ee.Image()\n",
    "    cor_coeff_list = get_corr_coef(imageInfo, atmParams)\n",
    "    bandnames = oldImage.bandNames().getInfo()\n",
    "    for ii in range(NO_OF_BANDS):\n",
    "        img2RadMultiplier = toa_to_rad_multiplier(bandnames[ii], imageInfo, atmParams)\n",
    "        imgRad = oldImage.select(bandnames[ii]).multiply(img2RadMultiplier)\n",
    "        constImageA = ee.Image.constant(cor_coeff_list[ii][0])\n",
    "        constImageB = ee.Image.constant(cor_coeff_list[ii][1])\n",
    "        surRef = imgRad.subtract(constImageA).divide(constImageB)\n",
    "        newImage = newImage.addBands(surRef)\n",
    "    # unpack a list of the band indexes:\n",
    "    return newImage.select(*list(range(NO_OF_BANDS)))"
   ]
  },
  {
   "cell_type": "code",
   "execution_count": null,
   "metadata": {},
   "outputs": [],
   "source": [
    "#date = ee.Date(dateString)\n",
    "geom = studyarea\n",
    "\n",
    "S3 = S2List\n",
    "SrList = ee.List([0]) # Can't init empty list so need a garbage element\n",
    "export_list = []\n",
    "coeff_list = []\n",
    "for i in range(NO_OF_IMAGES):\n",
    "    iInfo = S3.get(i).getInfo()\n",
    "    iInfoProps = iInfo['properties']\n",
    "    atmVars = atm_corr_image(iInfoProps)\n",
    "    corrCoeffs = get_corr_coef(iInfoProps, atmVars)\n",
    "    coeff_list.append(corrCoeffs)\n",
    "    # # set some properties to tack on to export images\n",
    "    #info = S3.getInfo()['properties']  #called iInfo\n",
    "    scene_date = datetime.datetime.utcfromtimestamp(iInfoProps['system:time_start']/1000)# i.e. Python uses seconds, EE uses milliseconds\n",
    "    dateString = scene_date.strftime(\"%Y-%m-%d\")\n",
    "    \n",
    "    # # Atmospheric constituents\n",
    "    h2o = Atmospheric.water(geom,ee.Date(dateString)).getInfo()\n",
    "    o3 = Atmospheric.ozone(geom,ee.Date(dateString)).getInfo()\n",
    "    aot = Atmospheric.aerosol(geom,ee.Date(dateString)).getInfo()\n",
    "    \n",
    "    img = atm_corr_band(ee.Image(S3.get(i)), iInfoProps, atmVars)\n",
    "    img = img.set({'satellite':'Sentinel 2',\n",
    "              'fileID':iInfoProps['system:index'],\n",
    "              'date':dateString,\n",
    "              'aerosol_optical_thickness':aot,\n",
    "              'water_vapour':h2o,\n",
    "              'ozone':o3})\n",
    "    SrList = SrList.add(img)\n",
    "\n",
    "SrList = SrList.slice(1) # Need to remove the first element from the list which is garbage\n",
    "with open('coeff_list.txt', 'w') as f:\n",
    "    pprint(coeff_list, stream=f)"
   ]
  },
  {
   "cell_type": "code",
   "execution_count": 33,
   "metadata": {},
   "outputs": [
    {
     "data": {
      "text/plain": [
       "6"
      ]
     },
     "execution_count": 33,
     "metadata": {},
     "output_type": "execute_result"
    }
   ],
   "source": [
    "#SrList.size().getInfo()==S2.size().getInfo()\n",
    "SrList.size().getInfo()"
   ]
  },
  {
   "cell_type": "code",
   "execution_count": 10,
   "metadata": {},
   "outputs": [
    {
     "data": {
      "text/plain": [
       "<ee.image.Image at 0x7faac9d3c588>"
      ]
     },
     "execution_count": 10,
     "metadata": {},
     "output_type": "execute_result"
    }
   ],
   "source": [
    "firstImagenotcor = ee.Image(S2List.get(3)).divide(10000)\n",
    "firstImageatcor = ee.Image(SrList.get(3))\n",
    "firstImagenotcor"
   ]
  },
  {
   "cell_type": "code",
   "execution_count": 11,
   "metadata": {},
   "outputs": [
    {
     "data": {
      "text/html": [
       "<img src=\"https://earthengine.googleapis.com/api/thumb?thumbid=725925f8d5e4a9e7813c197c3ceda24c&token=1f6f1bae115993da595e72f6637bffea\"/>"
      ],
      "text/plain": [
       "<IPython.core.display.Image object>"
      ]
     },
     "metadata": {},
     "output_type": "display_data"
    },
    {
     "data": {
      "text/html": [
       "<img src=\"https://earthengine.googleapis.com/api/thumb?thumbid=fb2395262ccbd902663e254beb6424c3&token=6d3d5bd7da45ffa5c8dc06a1af687ebf\"/>"
      ],
      "text/plain": [
       "<IPython.core.display.Image object>"
      ]
     },
     "metadata": {},
     "output_type": "display_data"
    }
   ],
   "source": [
    "from IPython.display import display, Image\n",
    "\n",
    "region = geom.buffer(10000).bounds().getInfo()['coordinates']\n",
    "channels = ['B4','B3','B2']\n",
    "\n",
    "before = Image(url=firstImagenotcor.select(channels).getThumbUrl({\n",
    "                'region':region,'min':0,'max':0.25#,'gamma':1.5\n",
    "                }))\n",
    "\n",
    "after = Image(url=firstImageatcor.select(channels).getThumbUrl({\n",
    "                'region':region,'min':0,'max':0.25#,'gamma':1.5\n",
    "                }))\n",
    "\n",
    "display(before, after)"
   ]
  },
  {
   "cell_type": "code",
   "execution_count": 12,
   "metadata": {},
   "outputs": [
    {
     "data": {
      "application/vnd.jupyter.widget-view+json": {
       "model_id": "a1b9b09c9b364edb9388408e86abfb8a",
       "version_major": 2,
       "version_minor": 0
      },
      "text/plain": [
       "Map(basemap={'url': 'https://{s}.tile.openstreetmap.org/{z}/{x}/{y}.png', 'max_zoom': 19, 'attribution': 'Map …"
      ]
     },
     "metadata": {},
     "output_type": "display_data"
    },
    {
     "data": {
      "application/vnd.jupyter.widget-view+json": {
       "model_id": "7b7d0a6b4c92496d86fc60f53c1352a3",
       "version_major": 2,
       "version_minor": 0
      },
      "text/plain": [
       "Tab(children=(CustomInspector(children=(SelectMultiple(options=OrderedDict(), value=()), Accordion(selected_in…"
      ]
     },
     "metadata": {},
     "output_type": "display_data"
    }
   ],
   "source": [
    "Map = ui.Map(tabs=('Inspector',))\n",
    "Map.show()"
   ]
  },
  {
   "cell_type": "code",
   "execution_count": 18,
   "metadata": {},
   "outputs": [],
   "source": [
    "imageidx=6\n",
    "firstImagenotcor = ee.Image(S2List.get(imageidx)).divide(10000)\n",
    "firstImageatcor = ee.Image(SrList.get(imageidx))\n",
    "CorCol = ee.ImageCollection(SrList)#.map(cloud_mask.sentinel2()) #converting the list of atcor images to an imagecollection\n",
    "vis = {'bands':['B4', 'B3','B2'], 'min':0, 'max':0.3}\n",
    "#visS2 = {min: 0.0,max: 0.25,'bands':channels}\n",
    "#is2=is2.clip(aoi)\n",
    "from geetools import ui, tools, composite, cloud_mask, indices\n",
    "bands=['B1','B2','B3','B4','B5','B6','B7','B8','B8A','B9','B10','B11','B12']\n",
    "#medoid = composite.medoid(CorCol, bands=bands)\n",
    "image = S2.mosaic()\n",
    "img = CorCol.mosaic()"
   ]
  },
  {
   "cell_type": "code",
   "execution_count": 19,
   "metadata": {},
   "outputs": [],
   "source": [
    "Map.centerObject(firstImagenotcor.clip(geom), zoom=11)\n",
    "Map.addLayer(firstImagenotcor.clip(geom),vis, 'Uncorrected original, cloud masked')\n",
    "Map.addLayer(firstImageatcor.clip(geom),vis, 'Atmospherically corrected')\n",
    "#Map.addLayer(CorCol.first().clip(geom),vis, 'Atmospherically corrected, cloud masked')\n",
    "#Map.addLayer(medoid.clip(geom), vis, 'Medoid AtCorrected')\n",
    "Map.addLayer(S2.mosaic().clip(geom), {'bands':['B4', 'B3','B2'], 'min':0, 'max':5000}, 'Mosaic Not Corrected')\n",
    "Map.addLayer(img.clip(geom), {'bands':['B4', 'B3','B2'], 'min':0, 'max':5000}, 'Mosaic IS Corrected')"
   ]
  },
  {
   "cell_type": "code",
   "execution_count": 34,
   "metadata": {},
   "outputs": [],
   "source": [
    "CorCol = ee.ImageCollection(SrList)#.map(cloud_mask.sentinel2()) #converting the list of atcor images to an imagecollection\n",
    "assetlocation = assetPath+assetID #concatenate string variables to make one save destination "
   ]
  },
  {
   "cell_type": "code",
   "execution_count": 35,
   "metadata": {},
   "outputs": [
    {
     "data": {
      "text/plain": [
       "[<Task EXPORT_IMAGE: 0 (UNSUBMITTED)>,\n",
       " <Task EXPORT_IMAGE: 1 (UNSUBMITTED)>,\n",
       " <Task EXPORT_IMAGE: 2 (UNSUBMITTED)>,\n",
       " <Task EXPORT_IMAGE: 3 (UNSUBMITTED)>,\n",
       " <Task EXPORT_IMAGE: 4 (UNSUBMITTED)>,\n",
       " <Task EXPORT_IMAGE: 5 (UNSUBMITTED)>]"
      ]
     },
     "execution_count": 35,
     "metadata": {},
     "output_type": "execute_result"
    }
   ],
   "source": [
    "batch.ImageCollection.toAsset(col=CorCol, assetPath=assetlocation, scale=10, region=studyarea)#,create=True,verbose=False)"
   ]
  },
  {
   "cell_type": "code",
   "execution_count": null,
   "metadata": {},
   "outputs": [],
   "source": [
    "# # export\n",
    "export = ee.batch.Export.image.toAsset(\\\n",
    "    image=output,\n",
    "    description='sentinel2_atmcorr_export',\n",
    "    assetId = assetID,\n",
    "    region = region,\n",
    "    scale = 30)\n",
    "\n",
    "batch.ImageColllection.toDrive(CorCol, property='site', folder='tools_exportbyfeat', name='test', scale=10, dataType='float')\n",
    "ee.batch.export.image.toDrive(CorCol)\n",
    "# # uncomment to run the export\n",
    "#export.start() "
   ]
  }
 ],
 "metadata": {
  "anaconda-cloud": {},
  "kernelspec": {
   "display_name": "geepy6s-env",
   "language": "python",
   "name": "geepy6s-env"
  },
  "language_info": {
   "codemirror_mode": {
    "name": "ipython",
    "version": 3
   },
   "file_extension": ".py",
   "mimetype": "text/x-python",
   "name": "python",
   "nbconvert_exporter": "python",
   "pygments_lexer": "ipython3",
   "version": "3.6.8"
  }
 },
 "nbformat": 4,
 "nbformat_minor": 1
}
