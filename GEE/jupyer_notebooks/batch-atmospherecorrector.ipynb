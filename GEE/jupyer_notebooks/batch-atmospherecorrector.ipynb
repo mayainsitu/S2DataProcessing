{
 "cells": [
  {
   "cell_type": "code",
   "execution_count": 1,
   "metadata": {},
   "outputs": [],
   "source": [
    "# standard modules\n",
    "import ee\n",
    "from pprint import pprint\n",
    "import datetime\n",
    "import math\n",
    "import pickle\n",
    "ee.Initialize()\n",
    "import os\n",
    "import sys\n",
    "\n",
    "# package modules\n",
    "sys.path.append(os.path.join(os.path.dirname(os.getcwd()),'')) #path to geetools\n",
    "from geetools import ui, cloud_mask, batch\n",
    "sys.path.append(os.path.join(os.path.dirname(os.getcwd()),'bin')) #path to atmospheric repo\n",
    "from atmcorr.atmospheric import Atmospheric\n",
    "from atmcorr.timeSeries import timeSeries"
   ]
  },
  {
   "cell_type": "markdown",
   "metadata": {},
   "source": [
    "## User Inputs"
   ]
  },
  {
   "cell_type": "code",
   "execution_count": 9,
   "metadata": {},
   "outputs": [],
   "source": [
    "# start and end of time series\n",
    "START_DATE = '2015-09-01'  # YYYY-MM-DD\n",
    "STOP_DATE = '2015-09-30'  # YYYY-MM-DD\n",
    "\n",
    "# define YOUR GEE asset path (check the Code Editor on the Google Earth Engine Platform)\n",
    "assetPath = 'users/visithuruvixen/'\n",
    "\n",
    "# Location\n",
    "#studyarea = ee.Geometry.Rectangle(7.839915571336746,59.92729438200467,8.229930219774246,60.120787029875316)\n",
    "studyarea = ee.Geometry.Rectangle(6.61742922283554, 59.83018236417845,8.459315101872107, 60.410305416291344)#whole park\n",
    "sitepoint= ee.Geometry.Point(8.031215204296245,60.02282521279792)\n",
    "\n",
    "# Description of time period and location\n",
    "assetID = 'ic092015'"
   ]
  },
  {
   "cell_type": "markdown",
   "metadata": {},
   "source": [
    "### Getting an Image Collection from the GEE Server"
   ]
  },
  {
   "cell_type": "code",
   "execution_count": 10,
   "metadata": {},
   "outputs": [
    {
     "data": {
      "text/plain": [
       "34"
      ]
     },
     "execution_count": 10,
     "metadata": {},
     "output_type": "execute_result"
    }
   ],
   "source": [
    "# The Sentinel-2 image collection\n",
    "S2 = ee.ImageCollection('COPERNICUS/S2').filterBounds(studyarea)\\\n",
    "       .filterDate(START_DATE, STOP_DATE).sort('system:time_start')\\\n",
    "       .map(cloud_mask.sentinel2()) # applies an ESA cloud mask on all images (L1C)\n",
    "S2List = S2.toList(S2.size()) # must loop through lists\n",
    "\n",
    "NO_OF_IMAGES = S2.size().getInfo()  # no. of images in the collection\n",
    "NO_OF_IMAGES"
   ]
  },
  {
   "cell_type": "markdown",
   "metadata": {},
   "source": [
    "### defining functions for atmospheric correction"
   ]
  },
  {
   "cell_type": "code",
   "execution_count": 5,
   "metadata": {},
   "outputs": [],
   "source": [
    "#Set Key Variables\n",
    "MISSIONS = ['Sentinel2']# satellite missions, \n",
    "NO_OF_BANDS = 13\n",
    "# Location of iLUTs (can keep default if you clone entire git repository to your machine)\n",
    "DIRPATH = './files/iLUTs/S2A_MSI/Continental/view_zenith_0/'\n",
    "# setting parameter for atmospheric correction\n",
    "SRTM = ee.Image('USGS/GMTED2010')  # Make sure that your study area is covered by this elevation dataset\n",
    "altitude = SRTM.reduceRegion(reducer=ee.Reducer.mean(), geometry=studyarea.centroid()).get('be75').getInfo() # insert correct name for elevation variable from dataset\n",
    "KM = altitude/1000  # i.e. Py6S uses units of kilometers\n",
    "\n",
    "def atm_corr_image(imageInfo: dict) -> dict:\n",
    "    \"\"\"Retrieves atmospheric params from image.\n",
    "\n",
    "    imageInfo is a dictionary created from an ee.Image object\n",
    "    \"\"\"\n",
    "    atmParams = {}\n",
    "    # Python uses seconds, EE uses milliseconds:\n",
    "    scene_date = datetime.datetime.utcfromtimestamp(imageInfo['system:time_start']/1000)\n",
    "    dt1 = ee.Date(str(scene_date).rsplit(sep=' ')[0])\n",
    "\n",
    "    atmParams['doy'] = scene_date.timetuple().tm_yday\n",
    "    atmParams['solar_z'] = imageInfo['MEAN_SOLAR_ZENITH_ANGLE']\n",
    "    atmParams['h2o'] = Atmospheric.water(geom, dt1).getInfo()\n",
    "    atmParams['o3'] = Atmospheric.ozone(geom, dt1).getInfo()\n",
    "    atmParams['aot'] = Atmospheric.aerosol(geom, dt1).getInfo()\n",
    "    return atmParams\n",
    "\n",
    "\n",
    "def get_corr_coef(imageInfo: dict, atmParams: dict) -> list:\n",
    "    \"\"\"Gets correction coefficients for each band in the image.\n",
    "    \n",
    "    Uses DIRPATH global variable\n",
    "    Uses NO_OF_BANDS global variable\n",
    "    Uses KM global variable\n",
    "    Returns list of 2-length lists\n",
    "    \"\"\"\n",
    "    corr_coefs = []\n",
    "    # string list with padding of 2\n",
    "    bandNos = [str(i).zfill(2) for i in range(1, NO_OF_BANDS + 1)]\n",
    "    for band in bandNos:\n",
    "        filepath = DIRPATH + 'S2A_MSI_' + band + '.ilut'\n",
    "        with open(filepath, 'rb') as ilut_file:\n",
    "            iluTable = pickle.load(ilut_file)\n",
    "        a, b = iluTable(atmParams['solar_z'], atmParams['h2o'], atmParams['o3'], atmParams['aot'], KM)\n",
    "        elliptical_orbit_correction = 0.03275104*math.cos(atmParams['doy']/59.66638337) + 0.96804905\n",
    "        a *= elliptical_orbit_correction\n",
    "        b *= elliptical_orbit_correction\n",
    "        corr_coefs.append([a, b])\n",
    "    return corr_coefs\n",
    "\n",
    "\n",
    "def toa_to_rad_multiplier(bandname: str, imageInfo: dict, atmParams: dict) -> float:\n",
    "    \"\"\"Returns a multiplier for converting TOA reflectance to radiance\n",
    "\n",
    "    bandname is a string like 'B1'\n",
    "    \"\"\"\n",
    "    ESUN = imageInfo['SOLAR_IRRADIANCE_'+bandname]\n",
    "    # solar exoatmospheric spectral irradiance\n",
    "    solar_angle_correction = math.cos(math.radians(atmParams['solar_z']))\n",
    "    # Earth-Sun distance (from day of year)\n",
    "    d = 1 - 0.01672 * math.cos(0.9856 * (atmParams['doy']-4))\n",
    "    # http://physics.stackexchange.com/questions/177949/earth-sun-distance-on-a-given-day-of-the-year\n",
    "    # conversion factor\n",
    "    multiplier = ESUN*solar_angle_correction/(math.pi*d**2)\n",
    "    # at-sensor radiance\n",
    "    return multiplier\n",
    "\n",
    "\n",
    "def atm_corr_band(image, imageInfo: dict, atmParams: dict):\n",
    "    \"\"\"Atmospherically correct image\n",
    "\n",
    "    Converts toa reflectance to radiance.\n",
    "    Applies correction coefficients to get surface reflectance\n",
    "    Returns ee.Image object\n",
    "    \"\"\"\n",
    "    oldImage = ee.Image(image).divide(10000)\n",
    "    newImage = ee.Image()\n",
    "    cor_coeff_list = get_corr_coef(imageInfo, atmParams)\n",
    "    bandnames = oldImage.bandNames().getInfo()\n",
    "    for ii in range(NO_OF_BANDS):\n",
    "        img2RadMultiplier = toa_to_rad_multiplier(bandnames[ii], imageInfo, atmParams)\n",
    "        imgRad = oldImage.select(bandnames[ii]).multiply(img2RadMultiplier)\n",
    "        constImageA = ee.Image.constant(cor_coeff_list[ii][0])\n",
    "        constImageB = ee.Image.constant(cor_coeff_list[ii][1])\n",
    "        surRef = imgRad.subtract(constImageA).divide(constImageB)\n",
    "        newImage = newImage.addBands(surRef)\n",
    "    # unpack a list of the band indexes:\n",
    "    return newImage.select(*list(range(NO_OF_BANDS)))"
   ]
  },
  {
   "cell_type": "markdown",
   "metadata": {},
   "source": [
    "### Performing atcorrection on ee.List of images"
   ]
  },
  {
   "cell_type": "code",
   "execution_count": null,
   "metadata": {},
   "outputs": [],
   "source": [
    "%%time \n",
    "#date = ee.Date(dateString)\n",
    "geom = studyarea\n",
    "\n",
    "S3 = S2List\n",
    "SrList = ee.List([0]) # Can't init empty list so need a garbage element\n",
    "export_list = []\n",
    "coeff_list = []\n",
    "for i in range(NO_OF_IMAGES):\n",
    "    iInfo = S3.get(i).getInfo()\n",
    "    iInfoProps = iInfo['properties']\n",
    "    atmVars = atm_corr_image(iInfoProps)\n",
    "    corrCoeffs = get_corr_coef(iInfoProps, atmVars)\n",
    "    coeff_list.append(corrCoeffs)\n",
    "    # # set some properties to tack on to export images\n",
    "    #info = S3.getInfo()['properties']  #called iInfo\n",
    "    scene_date = datetime.datetime.utcfromtimestamp(iInfoProps['system:time_start']/1000)# i.e. Python uses seconds, EE uses milliseconds\n",
    "    dateString = scene_date.strftime(\"%Y-%m-%d\")\n",
    "    \n",
    "    # # Atmospheric constituents\n",
    "    h2o = Atmospheric.water(geom,ee.Date(dateString)).getInfo()\n",
    "    o3 = Atmospheric.ozone(geom,ee.Date(dateString)).getInfo()\n",
    "    aot = Atmospheric.aerosol(geom,ee.Date(dateString)).getInfo()\n",
    "    \n",
    "    img = atm_corr_band(ee.Image(S3.get(i)), iInfoProps, atmVars)\n",
    "    img = img.set({'satellite':'Sentinel 2',\n",
    "              'fileID':iInfoProps['system:index'],\n",
    "              'Date':dateString,\n",
    "              'aerosol_optical_thickness':aot,\n",
    "              'water_vapour':h2o,\n",
    "              'ozone':o3})\n",
    "    SrList = SrList.add(img)\n",
    "\n",
    "SrList = SrList.slice(1) # Need to remove the first element from the list which is garbage\n",
    "with open('coeff_list.txt', 'w') as f:\n",
    "    pprint(coeff_list, stream=f)\n",
    "    \n",
    "print('runtime')"
   ]
  },
  {
   "cell_type": "markdown",
   "metadata": {},
   "source": [
    "## Exporting AtCorrected Image Collection"
   ]
  },
  {
   "cell_type": "code",
   "execution_count": null,
   "metadata": {},
   "outputs": [],
   "source": [
    "#check that all images were corrected (list should be equal size to original IC)\n",
    "SrList.size().getInfo()==S2.size().getInfo()"
   ]
  },
  {
   "cell_type": "code",
   "execution_count": null,
   "metadata": {},
   "outputs": [],
   "source": [
    "CorCol = ee.ImageCollection(SrList)#.map(cloud_mask.sentinel2()) #converting the list of atcor images to an imagecollection\n",
    "assetlocation = assetPath+assetID #concatenate string variables to make one save destination "
   ]
  },
  {
   "cell_type": "code",
   "execution_count": null,
   "metadata": {},
   "outputs": [],
   "source": [
    "batch.ImageCollection.toAsset(col=CorCol,maxPixels=132441795, assetPath=assetlocation, scale=10, region=studyarea)#,create=True,verbose=False)"
   ]
  },
  {
   "cell_type": "markdown",
   "metadata": {},
   "source": [
    "## Visualisation"
   ]
  },
  {
   "cell_type": "code",
   "execution_count": 11,
   "metadata": {},
   "outputs": [
    {
     "data": {
      "text/plain": [
       "<ee.image.Image at 0x7fb9bac5fd68>"
      ]
     },
     "execution_count": 11,
     "metadata": {},
     "output_type": "execute_result"
    }
   ],
   "source": [
    "firstImagenotcor = ee.Image(S2List.get(3)).divide(10000)\n",
    "firstImageatcor = ee.Image(SrList.get(3))"
   ]
  },
  {
   "cell_type": "code",
   "execution_count": 12,
   "metadata": {},
   "outputs": [
    {
     "data": {
      "text/html": [
       "<img src=\"https://earthengine.googleapis.com/api/thumb?thumbid=d96ea552e0ea7689482f0e4062fec115&token=6164cb724ff45f8270f405810fe385bf\"/>"
      ],
      "text/plain": [
       "<IPython.core.display.Image object>"
      ]
     },
     "metadata": {},
     "output_type": "display_data"
    },
    {
     "data": {
      "text/html": [
       "<img src=\"https://earthengine.googleapis.com/api/thumb?thumbid=ed98d699c7f5aa9dbda277d12018e0fa&token=5d38557cef8792b139bd4e7afb96e0ad\"/>"
      ],
      "text/plain": [
       "<IPython.core.display.Image object>"
      ]
     },
     "metadata": {},
     "output_type": "display_data"
    }
   ],
   "source": [
    "from IPython.display import display, Image\n",
    "\n",
    "region = geom.buffer(10000).bounds().getInfo()['coordinates']\n",
    "channels = ['B4','B3','B2']\n",
    "\n",
    "before = Image(url=firstImagenotcor.select(channels).getThumbUrl({\n",
    "                'region':region,'min':0,'max':0.25#,'gamma':1.5\n",
    "                }))\n",
    "\n",
    "after = Image(url=firstImageatcor.select(channels).getThumbUrl({\n",
    "                'region':region,'min':0,'max':0.25#,'gamma':1.5\n",
    "                }))\n",
    "\n",
    "display(before, after)"
   ]
  },
  {
   "cell_type": "code",
   "execution_count": 22,
   "metadata": {},
   "outputs": [
    {
     "data": {
      "application/vnd.jupyter.widget-view+json": {
       "model_id": "04e762c377ec4843adf0c1bcae80c512",
       "version_major": 2,
       "version_minor": 0
      },
      "text/plain": [
       "Map(basemap={'url': 'https://{s}.tile.openstreetmap.org/{z}/{x}/{y}.png', 'max_zoom': 19, 'attribution': 'Map …"
      ]
     },
     "metadata": {},
     "output_type": "display_data"
    },
    {
     "data": {
      "application/vnd.jupyter.widget-view+json": {
       "model_id": "8b07bdfca4f043b68768115869ac523f",
       "version_major": 2,
       "version_minor": 0
      },
      "text/plain": [
       "Tab(children=(CustomInspector(children=(SelectMultiple(options=OrderedDict(), value=()), Accordion(selected_in…"
      ]
     },
     "metadata": {},
     "output_type": "display_data"
    }
   ],
   "source": [
    "from geetools import ui\n",
    "Map = ui.Map(tabs=('Inspector',))\n",
    "Map.show()"
   ]
  },
  {
   "cell_type": "code",
   "execution_count": 14,
   "metadata": {},
   "outputs": [],
   "source": [
    "imageidx=6\n",
    "firstImagenotcor = ee.Image(S2List.get(imageidx)).divide(10000)\n",
    "firstImageatcor = ee.Image(SrList.get(imageidx))\n",
    "CorCol = ee.ImageCollection(SrList)#.map(cloud_mask.sentinel2()) #converting the list of atcor images to an imagecollection\n",
    "vis = {'bands':['B4', 'B3','B2'], 'min':0, 'max':0.3}\n",
    "#visS2 = {min: 0.0,max: 0.25,'bands':channels}\n",
    "#is2=is2.clip(aoi)\n",
    "from geetools import ui, tools, composite, cloud_mask, indices\n",
    "bands=['B1','B2','B3','B4','B5','B6','B7','B8','B8A','B9','B10','B11','B12']\n",
    "#medoid = composite.medoid(CorCol, bands=bands)\n",
    "image = S2.mosaic()\n",
    "img = CorCol.mosaic()"
   ]
  },
  {
   "cell_type": "code",
   "execution_count": 15,
   "metadata": {},
   "outputs": [],
   "source": [
    "Map.centerObject(firstImagenotcor.clip(geom), zoom=11)\n",
    "Map.addLayer(firstImagenotcor.clip(geom),vis, 'Uncorrected original, cloud masked')\n",
    "Map.addLayer(firstImageatcor.clip(geom),vis, 'Atmospherically corrected')\n",
    "#Map.addLayer(CorCol.first().clip(geom),vis, 'Atmospherically corrected, cloud masked')\n",
    "#Map.addLayer(medoid.clip(geom), vis, 'Medoid AtCorrected')\n",
    "Map.addLayer(S2.mosaic().clip(geom), {'bands':['B4', 'B3','B2'], 'min':0, 'max':5000}, 'Mosaic Not Corrected')\n",
    "Map.addLayer(img.clip(geom), {'bands':['B4', 'B3','B2'], 'min':0, 'max':5000}, 'Mosaic IS Corrected')"
   ]
  },
  {
   "cell_type": "code",
   "execution_count": 43,
   "metadata": {},
   "outputs": [
    {
     "ename": "EEException",
     "evalue": "Element.get, argument 'property': Invalid type. Expected: String. Actual: Long.",
     "output_type": "error",
     "traceback": [
      "\u001b[0;31m---------------------------------------------------------------------------\u001b[0m",
      "\u001b[0;31mEEException\u001b[0m                               Traceback (most recent call last)",
      "\u001b[0;32m<ipython-input-43-639905a237de>\u001b[0m in \u001b[0;36m<module>\u001b[0;34m\u001b[0m\n\u001b[1;32m      7\u001b[0m \u001b[0;34m\u001b[0m\u001b[0m\n\u001b[1;32m      8\u001b[0m i2 = Image(url=imageatcorlist.select(channels).getThumbURL({\n\u001b[0;32m----> 9\u001b[0;31m                 \u001b[0;34m'region'\u001b[0m\u001b[0;34m:\u001b[0m\u001b[0mregion\u001b[0m\u001b[0;34m,\u001b[0m\u001b[0;34m'min'\u001b[0m\u001b[0;34m:\u001b[0m\u001b[0;36m0\u001b[0m\u001b[0;34m,\u001b[0m\u001b[0;34m'max'\u001b[0m\u001b[0;34m:\u001b[0m\u001b[0;36m0.25\u001b[0m\u001b[0;31m#,'gamma':1.5\u001b[0m\u001b[0;34m\u001b[0m\u001b[0;34m\u001b[0m\u001b[0m\n\u001b[0m\u001b[1;32m     10\u001b[0m                 }))\n\u001b[1;32m     11\u001b[0m \u001b[0;34m\u001b[0m\u001b[0m\n",
      "\u001b[0;32m~/.local/lib/python3.6/site-packages/ee/image.py\u001b[0m in \u001b[0;36mgetThumbURL\u001b[0;34m(self, params)\u001b[0m\n\u001b[1;32m    246\u001b[0m         raise ee_exception.EEException(\n\u001b[1;32m    247\u001b[0m             'The region parameter must be an array or a GeoJSON object.')\n\u001b[0;32m--> 248\u001b[0;31m     \u001b[0;32mreturn\u001b[0m \u001b[0mdata\u001b[0m\u001b[0;34m.\u001b[0m\u001b[0mmakeThumbUrl\u001b[0m\u001b[0;34m(\u001b[0m\u001b[0mdata\u001b[0m\u001b[0;34m.\u001b[0m\u001b[0mgetThumbId\u001b[0m\u001b[0;34m(\u001b[0m\u001b[0mparams\u001b[0m\u001b[0;34m)\u001b[0m\u001b[0;34m)\u001b[0m\u001b[0;34m\u001b[0m\u001b[0;34m\u001b[0m\u001b[0m\n\u001b[0m\u001b[1;32m    249\u001b[0m \u001b[0;34m\u001b[0m\u001b[0m\n\u001b[1;32m    250\u001b[0m   \u001b[0;31m# Deprecated spellings to match the JS library.\u001b[0m\u001b[0;34m\u001b[0m\u001b[0;34m\u001b[0m\u001b[0;34m\u001b[0m\u001b[0m\n",
      "\u001b[0;32m~/.local/lib/python3.6/site-packages/ee/data.py\u001b[0m in \u001b[0;36mgetThumbId\u001b[0;34m(params)\u001b[0m\n\u001b[1;32m    521\u001b[0m   \u001b[0;32mif\u001b[0m \u001b[0;34m'size'\u001b[0m \u001b[0;32min\u001b[0m \u001b[0mrequest\u001b[0m \u001b[0;32mand\u001b[0m \u001b[0misinstance\u001b[0m\u001b[0;34m(\u001b[0m\u001b[0mrequest\u001b[0m\u001b[0;34m[\u001b[0m\u001b[0;34m'size'\u001b[0m\u001b[0;34m]\u001b[0m\u001b[0;34m,\u001b[0m \u001b[0;34m(\u001b[0m\u001b[0mlist\u001b[0m\u001b[0;34m,\u001b[0m \u001b[0mtuple\u001b[0m\u001b[0;34m)\u001b[0m\u001b[0;34m)\u001b[0m\u001b[0;34m:\u001b[0m\u001b[0;34m\u001b[0m\u001b[0;34m\u001b[0m\u001b[0m\n\u001b[1;32m    522\u001b[0m     \u001b[0mrequest\u001b[0m\u001b[0;34m[\u001b[0m\u001b[0;34m'size'\u001b[0m\u001b[0;34m]\u001b[0m \u001b[0;34m=\u001b[0m \u001b[0;34m'x'\u001b[0m\u001b[0;34m.\u001b[0m\u001b[0mjoin\u001b[0m\u001b[0;34m(\u001b[0m\u001b[0mmap\u001b[0m\u001b[0;34m(\u001b[0m\u001b[0mstr\u001b[0m\u001b[0;34m,\u001b[0m \u001b[0mrequest\u001b[0m\u001b[0;34m[\u001b[0m\u001b[0;34m'size'\u001b[0m\u001b[0;34m]\u001b[0m\u001b[0;34m)\u001b[0m\u001b[0;34m)\u001b[0m\u001b[0;34m\u001b[0m\u001b[0;34m\u001b[0m\u001b[0m\n\u001b[0;32m--> 523\u001b[0;31m   \u001b[0;32mreturn\u001b[0m \u001b[0msend_\u001b[0m\u001b[0;34m(\u001b[0m\u001b[0;34m'/thumb'\u001b[0m\u001b[0;34m,\u001b[0m \u001b[0mrequest\u001b[0m\u001b[0;34m)\u001b[0m\u001b[0;34m\u001b[0m\u001b[0;34m\u001b[0m\u001b[0m\n\u001b[0m\u001b[1;32m    524\u001b[0m \u001b[0;34m\u001b[0m\u001b[0m\n\u001b[1;32m    525\u001b[0m \u001b[0;34m\u001b[0m\u001b[0m\n",
      "\u001b[0;32m~/.local/lib/python3.6/site-packages/ee/data.py\u001b[0m in \u001b[0;36msend_\u001b[0;34m(path, params, opt_method, opt_raw)\u001b[0m\n\u001b[1;32m   1171\u001b[0m       \u001b[0;32mraise\u001b[0m \u001b[0mee_exception\u001b[0m\u001b[0;34m.\u001b[0m\u001b[0mEEException\u001b[0m\u001b[0;34m(\u001b[0m\u001b[0;34m'Invalid JSON: %s'\u001b[0m \u001b[0;34m%\u001b[0m \u001b[0mcontent\u001b[0m\u001b[0;34m)\u001b[0m\u001b[0;34m\u001b[0m\u001b[0;34m\u001b[0m\u001b[0m\n\u001b[1;32m   1172\u001b[0m     \u001b[0;32mif\u001b[0m \u001b[0;34m'error'\u001b[0m \u001b[0;32min\u001b[0m \u001b[0mjson_content\u001b[0m\u001b[0;34m:\u001b[0m\u001b[0;34m\u001b[0m\u001b[0;34m\u001b[0m\u001b[0m\n\u001b[0;32m-> 1173\u001b[0;31m       \u001b[0;32mraise\u001b[0m \u001b[0mee_exception\u001b[0m\u001b[0;34m.\u001b[0m\u001b[0mEEException\u001b[0m\u001b[0;34m(\u001b[0m\u001b[0mjson_content\u001b[0m\u001b[0;34m[\u001b[0m\u001b[0;34m'error'\u001b[0m\u001b[0;34m]\u001b[0m\u001b[0;34m[\u001b[0m\u001b[0;34m'message'\u001b[0m\u001b[0;34m]\u001b[0m\u001b[0;34m)\u001b[0m\u001b[0;34m\u001b[0m\u001b[0;34m\u001b[0m\u001b[0m\n\u001b[0m\u001b[1;32m   1174\u001b[0m     \u001b[0;32mif\u001b[0m \u001b[0;34m'data'\u001b[0m \u001b[0;32mnot\u001b[0m \u001b[0;32min\u001b[0m \u001b[0mcontent\u001b[0m\u001b[0;34m:\u001b[0m\u001b[0;34m\u001b[0m\u001b[0;34m\u001b[0m\u001b[0m\n\u001b[1;32m   1175\u001b[0m       \u001b[0;32mraise\u001b[0m \u001b[0mee_exception\u001b[0m\u001b[0;34m.\u001b[0m\u001b[0mEEException\u001b[0m\u001b[0;34m(\u001b[0m\u001b[0;34m'Malformed response: '\u001b[0m \u001b[0;34m+\u001b[0m \u001b[0mstr\u001b[0m\u001b[0;34m(\u001b[0m\u001b[0mcontent\u001b[0m\u001b[0;34m)\u001b[0m\u001b[0;34m)\u001b[0m\u001b[0;34m\u001b[0m\u001b[0;34m\u001b[0m\u001b[0m\n",
      "\u001b[0;31mEEException\u001b[0m: Element.get, argument 'property': Invalid type. Expected: String. Actual: Long."
     ]
    }
   ],
   "source": [
    "composite = ee.Image(CorCol.min())\n",
    "imageatcorlist = ee.Image(CorCol.get(5))\n",
    "firstImageatcor = ee.Image(SrList.get(5))\n",
    "\n",
    "region = geom.buffer(10000).bounds().getInfo()['coordinates']\n",
    "channels = ['B4','B3','B2']\n",
    "\n",
    "i2 = Image(url=imageatcorlist.select(channels).getThumbURL({\n",
    "                'region':region,'min':0,'max':0.25#,'gamma':1.5\n",
    "                }))\n",
    "\n",
    "comp = Image(url=composite.select(channels).getThumbURL({\n",
    "                'region':region,'min':0,'max':0.25#,'gamma':1.5\n",
    "                }))\n",
    "\n",
    "display(i2, comp)"
   ]
  }
 ],
 "metadata": {
  "anaconda-cloud": {},
  "kernelspec": {
   "display_name": "geepy6s-env",
   "language": "python",
   "name": "geepy6s-env"
  },
  "language_info": {
   "codemirror_mode": {
    "name": "ipython",
    "version": 3
   },
   "file_extension": ".py",
   "mimetype": "text/x-python",
   "name": "python",
   "nbconvert_exporter": "python",
   "pygments_lexer": "ipython3",
   "version": "3.6.8"
  }
 },
 "nbformat": 4,
 "nbformat_minor": 1
}
