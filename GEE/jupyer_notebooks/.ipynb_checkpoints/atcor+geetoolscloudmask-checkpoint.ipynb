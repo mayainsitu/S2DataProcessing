{
 "cells": [
  {
   "cell_type": "markdown",
   "metadata": {},
   "source": [
    "# Sentinel 2 Atmospheric Correction in Google Earth Engine"
   ]
  },
  {
   "cell_type": "markdown",
   "metadata": {},
   "source": [
    "### Import modules \n",
    "and initialize Earth Engine"
   ]
  },
  {
   "cell_type": "code",
   "execution_count": 1,
   "metadata": {},
   "outputs": [],
   "source": [
    "import ee\n",
    "from Py6S import *\n",
    "import datetime\n",
    "import math\n",
    "import os\n",
    "import sys\n",
    "sys.path.append(os.path.join(os.path.dirname(os.getcwd()),'bin'))\n",
    "from atmospheric import Atmospheric\n",
    "from AtcorFunctions import *\n",
    "\n",
    "ee.Initialize()"
   ]
  },
  {
   "cell_type": "markdown",
   "metadata": {},
   "source": [
    "### time and place\n",
    "Define the time and place that you are looking for."
   ]
  },
  {
   "cell_type": "code",
   "execution_count": 2,
   "metadata": {},
   "outputs": [],
   "source": [
    "# start and end of time series\n",
    "start = ee.Date('2018-08-01')\n",
    "finish =ee.Date('2018-08-31')\n",
    "\n",
    "#coordinates below need adjusting to actual site coordinates - these are just close\n",
    "geom = ee.Geometry.Point([8.1191,60.0676]) \n",
    "aoi = geom.buffer(10000).bounds() #buffer is in meters, can adjust (10km buffer here)\n",
    "\n",
    "# Whole park\n",
    "#geom = ee.Geometry.Rectangle(8.3018, 60.3967,6.7596,59.9)"
   ]
  },
  {
   "cell_type": "markdown",
   "metadata": {},
   "source": [
    "### an image\n",
    "The following code will grab the first scene that occurs on or after date."
   ]
  },
  {
   "cell_type": "code",
   "execution_count": 3,
   "metadata": {},
   "outputs": [
    {
     "name": "stdout",
     "output_type": "stream",
     "text": [
      "2018-8-4\n",
      "2018-50-04\n"
     ]
    }
   ],
   "source": [
    "collection = ee.ImageCollection(\"COPERNICUS/S2\")\\\n",
    "    .filterBounds(geom)\\\n",
    "    .filterDate(start,finish)\\\n",
    "    .filterMetadata('CLOUDY_PIXEL_PERCENTAGE', 'less_than', 80)\n",
    "    #.map(s2mask())\n",
    "\n",
    "# The first image in the collection\n",
    "S2 = ee.Image(collection.first())\n",
    "\n",
    "print(ee.Date(S2.get('system:time_start')).format('yyyy-M-d').getInfo())\n",
    "print(ee.Date(S2.get('system:time_start')).format('yyyy-mm-dd').getInfo())\n",
    "\n",
    "# top of atmosphere reflectance\n",
    "toa = S2.divide(10000)"
   ]
  },
  {
   "cell_type": "code",
   "execution_count": 4,
   "metadata": {},
   "outputs": [],
   "source": [
    "date=start\n",
    "## METADATA\n",
    "info = S2.getInfo()['properties']\n",
    "scene_date = datetime.datetime.utcfromtimestamp(info['system:time_start']/1000)# i.e. Python uses seconds, EE uses milliseconds\n",
    "solar_z = info['MEAN_SOLAR_ZENITH_ANGLE']\n",
    "\n",
    "## ATMOSPHERIC CONSTITUENTS\n",
    "h2o = Atmospheric.water(geom,date).getInfo()\n",
    "o3 = Atmospheric.ozone(geom,date).getInfo()\n",
    "aot = Atmospheric.aerosol(geom,date).getInfo()\n",
    "\n",
    "## TARGET ALTITUDE\n",
    "SRTM = ee.Image('USGS/GMTED2010')# Shuttle Radar Topography mission covers *most* of the Earth\n",
    "alt = SRTM.reduceRegion(reducer = ee.Reducer.mean(),geometry = geom.centroid()).get('be75').getInfo()\n",
    "km = alt/1000 # i.e. Py6S uses units of kilometers"
   ]
  },
  {
   "cell_type": "markdown",
   "metadata": {},
   "source": [
    "### 6S object\n",
    "\n",
    "The backbone of Py6S is the 6S (i.e. SixS) class. It allows you to define the various input parameters, to run the radiative transfer code and to access the outputs which are required to convert radiance to surface reflectance."
   ]
  },
  {
   "cell_type": "code",
   "execution_count": 5,
   "metadata": {},
   "outputs": [],
   "source": [
    "# Instantiate\n",
    "s = SixS()\n",
    "\n",
    "# Atmospheric constituents\n",
    "s.atmos_profile = AtmosProfile.UserWaterAndOzone(h2o,o3)\n",
    "s.aero_profile = AeroProfile.Continental\n",
    "s.aot550 = aot\n",
    "\n",
    "# Earth-Sun-satellite geometry\n",
    "s.geometry = Geometry.User()\n",
    "s.geometry.view_z = 0               # always NADIR (I think..)\n",
    "s.geometry.solar_z = solar_z        # solar zenith angle\n",
    "s.geometry.month = scene_date.month # month and day used for Earth-Sun distance\n",
    "s.geometry.day = scene_date.day     # month and day used for Earth-Sun distance\n",
    "s.altitudes.set_sensor_satellite_level()\n",
    "s.altitudes.set_target_custom_altitude(km)"
   ]
  },
  {
   "cell_type": "markdown",
   "metadata": {},
   "source": [
    "### Atmospheric Correction"
   ]
  },
  {
   "cell_type": "code",
   "execution_count": 9,
   "metadata": {},
   "outputs": [
    {
     "name": "stdout",
     "output_type": "stream",
     "text": [
      "B1\n",
      "B2\n",
      "B3\n",
      "B4\n",
      "B5\n",
      "B6\n",
      "B7\n",
      "B8\n",
      "B8A\n",
      "B9\n",
      "B10\n",
      "B11\n",
      "B12\n"
     ]
    }
   ],
   "source": [
    "def spectralResponseFunction(bandname):\n",
    "    \"\"\"\n",
    "    Extract spectral response function for given band name\n",
    "    \"\"\"\n",
    "    bandSelect = {\n",
    "        'B1':PredefinedWavelengths.S2A_MSI_01,\n",
    "        'B2':PredefinedWavelengths.S2A_MSI_02,\n",
    "        'B3':PredefinedWavelengths.S2A_MSI_03,\n",
    "        'B4':PredefinedWavelengths.S2A_MSI_04,\n",
    "        'B5':PredefinedWavelengths.S2A_MSI_05,\n",
    "        'B6':PredefinedWavelengths.S2A_MSI_06,\n",
    "        'B7':PredefinedWavelengths.S2A_MSI_07,\n",
    "        'B8':PredefinedWavelengths.S2A_MSI_08,\n",
    "        'B8A':PredefinedWavelengths.S2A_MSI_09,\n",
    "        'B9':PredefinedWavelengths.S2A_MSI_10,\n",
    "        'B10':PredefinedWavelengths.S2A_MSI_11,\n",
    "        'B11':PredefinedWavelengths.S2A_MSI_12,\n",
    "        'B12':PredefinedWavelengths.S2A_MSI_13,\n",
    "        }\n",
    "    return Wavelength(bandSelect[bandname])\n",
    "def toa_to_rad(bandname):\n",
    "    \"\"\"\n",
    "    Converts top of atmosphere reflectance to at-sensor radiance\n",
    "    \"\"\"\n",
    "    # solar exoatmospheric spectral irradiance\n",
    "    ESUN = info['SOLAR_IRRADIANCE_'+bandname]\n",
    "    solar_angle_correction = math.cos(math.radians(solar_z))\n",
    "    # Earth-Sun distance (from day of year)\n",
    "    doy = scene_date.timetuple().tm_yday\n",
    "    d = 1 - 0.01672 * math.cos(0.9856 * (doy-4))# http://physics.stackexchange.com/questions/177949/earth-sun-distance-on-a-given-day-of-the-year\n",
    "    # conversion factor\n",
    "    multiplier = ESUN*solar_angle_correction/(math.pi*d**2)\n",
    "    # at-sensor radiance\n",
    "    rad = toa.select(bandname).multiply(multiplier)\n",
    "    return rad\n",
    "def surface_reflectance(bandname):\n",
    "    \"\"\"\n",
    "    Calculate surface reflectance from at-sensor radiance given waveband name\n",
    "    \"\"\"\n",
    "    # run 6S for this waveband\n",
    "    s.wavelength = spectralResponseFunction(bandname)\n",
    "    s.run()\n",
    "    # extract 6S outputs\n",
    "    Edir = s.outputs.direct_solar_irradiance             #direct solar irradiance\n",
    "    Edif = s.outputs.diffuse_solar_irradiance            #diffuse solar irradiance\n",
    "    Lp   = s.outputs.atmospheric_intrinsic_radiance      #path radiance\n",
    "    absorb  = s.outputs.trans['global_gas'].upward       #absorption transmissivity\n",
    "    scatter = s.outputs.trans['total_scattering'].upward #scattering transmissivity\n",
    "    tau2 = absorb*scatter                                #total transmissivity\n",
    "    # radiance to surface reflectance\n",
    "    rad = toa_to_rad(bandname)\n",
    "    ref = rad.subtract(Lp).multiply(math.pi).divide(tau2*(Edir+Edif))\n",
    "    return ref\n",
    "# surface reflectance rgb\n",
    "b = surface_reflectance('B2')\n",
    "g = surface_reflectance('B3')\n",
    "r = surface_reflectance('B4')\n",
    "ref = r.addBands(g).addBands(b)\n",
    "\n",
    "# # all wavebands\n",
    "output = S2.select('QA60')\n",
    "for band in ['B1','B2','B3','B4','B5','B6','B7','B8','B8A','B9','B10','B11','B12']:\n",
    "    print(band)\n",
    "    output = output.addBands(surface_reflectance(band))"
   ]
  },
  {
   "cell_type": "markdown",
   "metadata": {},
   "source": [
    "### Display results"
   ]
  },
  {
   "cell_type": "code",
   "execution_count": 10,
   "metadata": {},
   "outputs": [
    {
     "data": {
      "text/html": [
       "<img src=\"https://earthengine.googleapis.com/api/thumb?thumbid=96c59548ac342c16e9e1bfd9e545428e&token=9f9766d3a384f98aeb97577578263e8b\"/>"
      ],
      "text/plain": [
       "<IPython.core.display.Image object>"
      ]
     },
     "metadata": {},
     "output_type": "display_data"
    },
    {
     "data": {
      "text/html": [
       "<img src=\"https://earthengine.googleapis.com/api/thumb?thumbid=9492d1a4f07806054b6fc100a4d68272&token=7d47262bb907b50bd8a10eaffb6879e1\"/>"
      ],
      "text/plain": [
       "<IPython.core.display.Image object>"
      ]
     },
     "metadata": {},
     "output_type": "display_data"
    }
   ],
   "source": [
    "from IPython.display import display, Image\n",
    "\n",
    "region = geom.buffer(10000).bounds().getInfo()['coordinates']\n",
    "channels = ['B4','B3','B2']\n",
    "\n",
    "original = Image(url=toa.select(channels).getThumbUrl({\n",
    "                'region':region,'min':0,'max':0.25\n",
    "                }))\n",
    "\n",
    "corrected = Image(url=output.select(channels).getThumbUrl({\n",
    "                'region':region,'min':0,'max':0.25\n",
    "                }))\n",
    "\n",
    "display(original, corrected)"
   ]
  },
  {
   "cell_type": "markdown",
   "metadata": {},
   "source": [
    "## Cloud mask functions (from *geetools*)"
   ]
  },
  {
   "cell_type": "code",
   "execution_count": 11,
   "metadata": {},
   "outputs": [],
   "source": [
    "# Import relevant functions\n",
    "sys.path.append(os.path.join(os.path.dirname(os.getcwd()),'geetools'))\n",
    "from geetools import ui, cloud_mask"
   ]
  },
  {
   "cell_type": "code",
   "execution_count": 12,
   "metadata": {},
   "outputs": [
    {
     "data": {
      "application/vnd.jupyter.widget-view+json": {
       "model_id": "9620187a004f47f89abeaa226bbec80a",
       "version_major": 2,
       "version_minor": 0
      },
      "text/plain": [
       "Map(basemap={'url': 'https://{s}.tile.openstreetmap.org/{z}/{x}/{y}.png', 'max_zoom': 19, 'attribution': 'Map …"
      ]
     },
     "metadata": {},
     "output_type": "display_data"
    },
    {
     "data": {
      "application/vnd.jupyter.widget-view+json": {
       "model_id": "960dc8d7187647f8b6fbd195414b18e6",
       "version_major": 2,
       "version_minor": 0
      },
      "text/plain": [
       "Tab(children=(CustomInspector(children=(SelectMultiple(options=OrderedDict(), value=()), Accordion(selected_in…"
      ]
     },
     "metadata": {},
     "output_type": "display_data"
    }
   ],
   "source": [
    "MapS2 = ui.Map(tabs=('Inspector',))\n",
    "MapS2.show()"
   ]
  },
  {
   "cell_type": "code",
   "execution_count": 13,
   "metadata": {},
   "outputs": [],
   "source": [
    "#visS2 = {'bands':['B4','B3','B2'],'min':0, 'max':5000}\n",
    "visS2 = {min: 0.0,max: 0.25,'bands':channels}\n",
    "is2=output#S2/output\n",
    "is2=is2.clip(aoi)\n",
    "\n",
    "MapS2.centerObject(is2, zoom=11)\n",
    "MapS2.addLayer(is2,visS2, 'Sentinel 2 Original')"
   ]
  },
  {
   "cell_type": "markdown",
   "metadata": {},
   "source": [
    "### ESA Cloud mask"
   ]
  },
  {
   "cell_type": "code",
   "execution_count": 14,
   "metadata": {},
   "outputs": [],
   "source": [
    "ESA_mask_all = cloud_mask.sentinel2()\n",
    "is2_ESA = ESA_mask_all(is2)\n",
    "MapS2.addLayer(is2_ESA, visS2, 'Sentinel 2 ESA maked')"
   ]
  },
  {
   "cell_type": "markdown",
   "metadata": {},
   "source": [
    "### Sentinel Hub Cloud mask (*uses machine learning*)"
   ]
  },
  {
   "cell_type": "code",
   "execution_count": 15,
   "metadata": {},
   "outputs": [
    {
     "name": "stderr",
     "output_type": "stream",
     "text": [
      "INFO:s2cloudless.test_cloud_detector:Test OK.\n",
      "Cloud probabilities and cloud masks match templates.\n"
     ]
    }
   ],
   "source": [
    "import s2cloudless\n",
    "s2cloudless.test_sentinelhub_cloud_detector() "
   ]
  },
  {
   "cell_type": "code",
   "execution_count": null,
   "metadata": {},
   "outputs": [],
   "source": []
  },
  {
   "cell_type": "markdown",
   "metadata": {},
   "source": [
    "### Export to Asset"
   ]
  },
  {
   "cell_type": "code",
   "execution_count": 16,
   "metadata": {},
   "outputs": [],
   "source": [
    "# # set some properties for export\n",
    "dateString = scene_date.strftime(\"%Y-%m-%d\")\n",
    "ref = ref.set({'satellite':'Sentinel 2',\n",
    "              'fileID':info['system:index'],\n",
    "              'date':dateString,\n",
    "              'aerosol_optical_thickness':aot,\n",
    "              'water_vapour':h2o,\n",
    "              'ozone':o3})"
   ]
  },
  {
   "cell_type": "code",
   "execution_count": 17,
   "metadata": {},
   "outputs": [],
   "source": [
    "# define YOUR assetID \n",
    "assetID = 'users/visithuruvixen/test'"
   ]
  },
  {
   "cell_type": "code",
   "execution_count": 18,
   "metadata": {},
   "outputs": [],
   "source": [
    "# # export\n",
    "export = ee.batch.Export.image.toAsset(\\\n",
    "    image=output,\n",
    "    description='sentinel2_atmcorr_export',\n",
    "    assetId = assetID,\n",
    "    region = region,\n",
    "    scale = 30)\n",
    "\n",
    "# # uncomment to run the export\n",
    "export.start() "
   ]
  }
 ],
 "metadata": {
  "anaconda-cloud": {},
  "kernelspec": {
   "display_name": "geepy6s-env",
   "language": "python",
   "name": "geepy6s-env"
  },
  "language_info": {
   "codemirror_mode": {
    "name": "ipython",
    "version": 3
   },
   "file_extension": ".py",
   "mimetype": "text/x-python",
   "name": "python",
   "nbconvert_exporter": "python",
   "pygments_lexer": "ipython3",
   "version": "3.6.7"
  }
 },
 "nbformat": 4,
 "nbformat_minor": 2
}
