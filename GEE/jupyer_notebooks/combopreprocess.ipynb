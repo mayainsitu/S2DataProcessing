{
 "cells": [
  {
   "cell_type": "markdown",
   "metadata": {},
   "source": [
    "## Cloud masking with Sentinel 2"
   ]
  },
  {
   "cell_type": "markdown",
   "metadata": {},
   "source": [
    "Cloud and cloud shadow masking of Sentinel 2 images in Python. Refactored from javascipt taken from this thread: [Sentinel 2 cloud masking](https://groups.google.com/forum/#!searchin/google-earth-engine-developers/cloud$20masking%7Csort:relevance/google-earth-engine-developers/i63DS-Dg8Sg/Kc0knF9BBgAJ)"
   ]
  },
  {
   "cell_type": "code",
   "execution_count": 46,
   "metadata": {},
   "outputs": [],
   "source": [
    "from IPython.display import display, Image\n",
    "import math\n",
    "import ee\n",
    "import os\n",
    "import sys\n",
    "from Py6S import *\n",
    "import datetime\n",
    "sys.path.append(os.path.join(os.path.dirname(os.getcwd()),'bin'))\n",
    "from atmospheric import Atmospheric\n",
    "#from cloudmasker import *\n",
    "ee.Initialize()"
   ]
  },
  {
   "cell_type": "code",
   "execution_count": 47,
   "metadata": {},
   "outputs": [],
   "source": [
    "def rescale(img, thresholds):\n",
    "    \"\"\"\n",
    "    Linear stretch of image between two threshold values.\n",
    "    \"\"\"\n",
    "    return img.subtract(thresholds[0]).divide(thresholds[1] - thresholds[0])\n",
    "\n",
    "\n",
    "def ESAcloudMask(img):\n",
    "    \"\"\"\n",
    "    European Space Agency (ESA) clouds from 'QA60', i.e. Quality Assessment band at 60m\n",
    "    parsed by Nick Clinton\n",
    "    \"\"\"\n",
    "    qa = img.select('QA60')\n",
    "    # bits 10 and 11 are clouds and cirrus\n",
    "    cloudBitMask = int(2**10)\n",
    "    cirrusBitMask = int(2**11)\n",
    "    # both flags set to zero indicates clear conditions.\n",
    "    clear = qa.bitwiseAnd(cloudBitMask).eq(0).And(\\\n",
    "           qa.bitwiseAnd(cirrusBitMask).eq(0))\n",
    "    # clouds is not clear\n",
    "    cloud = clear.Not().rename(['ESA_clouds'])\n",
    "    # return the masked and scaled data.\n",
    "    return img.addBands(cloud)  \n",
    "\n",
    "def shadowMask(img,cloudMaskType):\n",
    "    \"\"\"\n",
    "    Finds cloud shadows in images\n",
    "    Originally by Gennadii Donchyts, adapted by Ian Housman\n",
    "    \"\"\"\n",
    "    def potentialShadow(cloudHeight):\n",
    "        \"\"\"\n",
    "        Finds potential shadow areas from array of cloud heights\n",
    "        returns an image stack (i.e. list of images) \n",
    "        \"\"\"\n",
    "        cloudHeight = ee.Number(cloudHeight)\n",
    "        # shadow vector length\n",
    "        shadowVector = zenith.tan().multiply(cloudHeight)\n",
    "        # x and y components of shadow vector length\n",
    "        x = azimuth.cos().multiply(shadowVector).divide(nominalScale).round()\n",
    "        y = azimuth.sin().multiply(shadowVector).divide(nominalScale).round()\n",
    "        # affine translation of clouds\n",
    "        cloudShift = cloudMask.changeProj(cloudMask.projection(), cloudMask.projection().translate(x, y)) # could incorporate shadow stretch?        \n",
    "        return cloudShift\n",
    "    # select a cloud mask\n",
    "    cloudMask = img.select(cloudMaskType)\n",
    "    # make sure it is binary (i.e. apply threshold to cloud score)\n",
    "    cloudScoreThreshold = 0.5\n",
    "    cloudMask = cloudMask.gt(cloudScoreThreshold)\n",
    "    # solar geometry (radians)\n",
    "    azimuth = ee.Number(img.get('solar_azimuth')).multiply(math.pi).divide(180.0).add(ee.Number(0.5).multiply(math.pi))\n",
    "    zenith  = ee.Number(0.5).multiply(math.pi ).subtract(ee.Number(img.get('solar_zenith')).multiply(math.pi).divide(180.0))\n",
    "    # find potential shadow areas based on cloud and solar geometry\n",
    "    nominalScale = cloudMask.projection().nominalScale()\n",
    "    cloudHeights = ee.List.sequence(500,4000,500)        \n",
    "    potentialShadowStack = cloudHeights.map(potentialShadow)\n",
    "    potentialShadow = ee.ImageCollection.fromImages(potentialShadowStack).max()\n",
    "    # shadows are not clouds\n",
    "    potentialShadow = potentialShadow.And(cloudMask.Not())\n",
    "    # (modified) dark pixel detection \n",
    "    darkPixels = toa.normalizedDifference(['green', 'swir2']).gt(0.25)\n",
    "    # shadows are dark\n",
    "    shadows = potentialShadow.And(darkPixels).rename(['shadows'])\n",
    "    # might be scope for one last check here. Dark surfaces (e.g. water, basalt, etc.) cause shadow commission errors.\n",
    "    # perhaps using a NDWI (e.g. green and nir)\n",
    "    return img.addBands(shadows)\n",
    "\n",
    "\n",
    "\n",
    "def quicklook(bandNames, mn, mx, region, gamma=False, title=False):\n",
    "    \"\"\"\n",
    "    Displays images in notebook\n",
    "    \"\"\"\n",
    "    if title:\n",
    "        print('\\n',title)\n",
    "    if not gamma:\n",
    "        gamma = 1\n",
    "    visual = Image(url=toa.select(bandNames).getThumbUrl({\n",
    "                'region':region,\n",
    "                'min':mn,\n",
    "                'max':mx,\n",
    "                'gamma':gamma,\n",
    "                'title':title\n",
    "                }))\n",
    "    display(visual)"
   ]
  },
  {
   "cell_type": "markdown",
   "metadata": {},
   "source": [
    "### time and place\n",
    "Define the time and place that you are looking for."
   ]
  },
  {
   "cell_type": "code",
   "execution_count": 51,
   "metadata": {},
   "outputs": [],
   "source": [
    "# region of interest\n",
    "geom = ee.Geometry.Point(-155.0844, 19.7189)\n",
    "\n",
    "# start and end of time series\n",
    "startDate = ee.Date('1980-01-01')\n",
    "stopDate  = ee.Date('2020-01-01')"
   ]
  },
  {
   "cell_type": "markdown",
   "metadata": {},
   "source": [
    "### an image\n",
    "The following code will grab the image collection between those dates, or the first in the time-series."
   ]
  },
  {
   "cell_type": "code",
   "execution_count": 52,
   "metadata": {},
   "outputs": [],
   "source": [
    "# image collection\n",
    "S2col = ee.ImageCollection('COPERNICUS/S2')\\\n",
    "    .filterBounds(geom)\\\n",
    "    .filterDate(startDate,stopDate)\n",
    "    \n",
    "# single image\n",
    "S2 = ee.Image(S2col.first())# The first Sentinel 2 image\n",
    "\n",
    "# top of atmosphere reflectance\n",
    "toa = S2.divide(10000)"
   ]
  },
  {
   "cell_type": "markdown",
   "metadata": {},
   "source": [
    "#### Detail some extra information"
   ]
  },
  {
   "cell_type": "code",
   "execution_count": 57,
   "metadata": {},
   "outputs": [
    {
     "ename": "NameError",
     "evalue": "name 'date' is not defined",
     "output_type": "error",
     "traceback": [
      "\u001b[0;31m---------------------------------------------------------------------------\u001b[0m",
      "\u001b[0;31mNameError\u001b[0m                                 Traceback (most recent call last)",
      "\u001b[0;32m<ipython-input-57-a76f0a6b0c93>\u001b[0m in \u001b[0;36m<module>\u001b[0;34m\u001b[0m\n\u001b[1;32m      4\u001b[0m \u001b[0msolar_z\u001b[0m \u001b[0;34m=\u001b[0m \u001b[0minfo\u001b[0m\u001b[0;34m[\u001b[0m\u001b[0;34m'MEAN_SOLAR_ZENITH_ANGLE'\u001b[0m\u001b[0;34m]\u001b[0m\u001b[0;34m\u001b[0m\u001b[0;34m\u001b[0m\u001b[0m\n\u001b[1;32m      5\u001b[0m \u001b[0;31m# Atmospheric constituents\u001b[0m\u001b[0;34m\u001b[0m\u001b[0;34m\u001b[0m\u001b[0;34m\u001b[0m\u001b[0m\n\u001b[0;32m----> 6\u001b[0;31m \u001b[0mh2o\u001b[0m \u001b[0;34m=\u001b[0m \u001b[0mAtmospheric\u001b[0m\u001b[0;34m.\u001b[0m\u001b[0mwater\u001b[0m\u001b[0;34m(\u001b[0m\u001b[0mgeom\u001b[0m\u001b[0;34m,\u001b[0m\u001b[0mdate\u001b[0m\u001b[0;34m)\u001b[0m\u001b[0;34m.\u001b[0m\u001b[0mgetInfo\u001b[0m\u001b[0;34m(\u001b[0m\u001b[0;34m)\u001b[0m\u001b[0;34m\u001b[0m\u001b[0;34m\u001b[0m\u001b[0m\n\u001b[0m\u001b[1;32m      7\u001b[0m \u001b[0mo3\u001b[0m \u001b[0;34m=\u001b[0m \u001b[0mAtmospheric\u001b[0m\u001b[0;34m.\u001b[0m\u001b[0mozone\u001b[0m\u001b[0;34m(\u001b[0m\u001b[0mgeom\u001b[0m\u001b[0;34m,\u001b[0m\u001b[0mdate\u001b[0m\u001b[0;34m)\u001b[0m\u001b[0;34m.\u001b[0m\u001b[0mgetInfo\u001b[0m\u001b[0;34m(\u001b[0m\u001b[0;34m)\u001b[0m\u001b[0;34m\u001b[0m\u001b[0;34m\u001b[0m\u001b[0m\n\u001b[1;32m      8\u001b[0m \u001b[0maot\u001b[0m \u001b[0;34m=\u001b[0m \u001b[0mAtmospheric\u001b[0m\u001b[0;34m.\u001b[0m\u001b[0maerosol\u001b[0m\u001b[0;34m(\u001b[0m\u001b[0mgeom\u001b[0m\u001b[0;34m,\u001b[0m\u001b[0mdate\u001b[0m\u001b[0;34m)\u001b[0m\u001b[0;34m.\u001b[0m\u001b[0mgetInfo\u001b[0m\u001b[0;34m(\u001b[0m\u001b[0;34m)\u001b[0m\u001b[0;34m\u001b[0m\u001b[0;34m\u001b[0m\u001b[0m\n",
      "\u001b[0;31mNameError\u001b[0m: name 'date' is not defined"
     ]
    }
   ],
   "source": [
    "# Metadata\n",
    "info = S2.getInfo()['properties']\n",
    "scene_date = datetime.datetime.utcfromtimestamp(info['system:time_start']/1000)# i.e. Python uses seconds, EE uses milliseconds\n",
    "solar_z = info['MEAN_SOLAR_ZENITH_ANGLE']\n",
    "# Atmospheric constituents\n",
    "h2o = Atmospheric.water(geom,date).getInfo()\n",
    "o3 = Atmospheric.ozone(geom,date).getInfo()\n",
    "aot = Atmospheric.aerosol(geom,date).getInfo()\n",
    "# Target Altitude\n",
    "SRTM = ee.Image('CGIAR/SRTM90_V4')# Shuttle Radar Topography mission covers *most* of the Earth\n",
    "alt = SRTM.reduceRegion(reducer = ee.Reducer.mean(),geometry = geom.centroid()).get('elevation').getInfo()\n",
    "km = alt/1000 # i.e. Py6S uses units of kilometers"
   ]
  },
  {
   "cell_type": "markdown",
   "metadata": {},
   "source": [
    "#### Create the 6S object"
   ]
  },
  {
   "cell_type": "code",
   "execution_count": 56,
   "metadata": {},
   "outputs": [
    {
     "ename": "NameError",
     "evalue": "name 'h2o' is not defined",
     "output_type": "error",
     "traceback": [
      "\u001b[0;31m---------------------------------------------------------------------------\u001b[0m",
      "\u001b[0;31mNameError\u001b[0m                                 Traceback (most recent call last)",
      "\u001b[0;32m<ipython-input-56-cb0a3015f727>\u001b[0m in \u001b[0;36m<module>\u001b[0;34m\u001b[0m\n\u001b[1;32m      3\u001b[0m \u001b[0;34m\u001b[0m\u001b[0m\n\u001b[1;32m      4\u001b[0m \u001b[0;31m# Atmospheric constituents\u001b[0m\u001b[0;34m\u001b[0m\u001b[0;34m\u001b[0m\u001b[0;34m\u001b[0m\u001b[0m\n\u001b[0;32m----> 5\u001b[0;31m \u001b[0ms\u001b[0m\u001b[0;34m.\u001b[0m\u001b[0matmos_profile\u001b[0m \u001b[0;34m=\u001b[0m \u001b[0mAtmosProfile\u001b[0m\u001b[0;34m.\u001b[0m\u001b[0mUserWaterAndOzone\u001b[0m\u001b[0;34m(\u001b[0m\u001b[0mh2o\u001b[0m\u001b[0;34m,\u001b[0m\u001b[0mo3\u001b[0m\u001b[0;34m)\u001b[0m\u001b[0;34m\u001b[0m\u001b[0;34m\u001b[0m\u001b[0m\n\u001b[0m\u001b[1;32m      6\u001b[0m \u001b[0ms\u001b[0m\u001b[0;34m.\u001b[0m\u001b[0maero_profile\u001b[0m \u001b[0;34m=\u001b[0m \u001b[0mAeroProfile\u001b[0m\u001b[0;34m.\u001b[0m\u001b[0mContinental\u001b[0m\u001b[0;34m\u001b[0m\u001b[0;34m\u001b[0m\u001b[0m\n\u001b[1;32m      7\u001b[0m \u001b[0ms\u001b[0m\u001b[0;34m.\u001b[0m\u001b[0maot550\u001b[0m \u001b[0;34m=\u001b[0m \u001b[0maot\u001b[0m\u001b[0;34m\u001b[0m\u001b[0;34m\u001b[0m\u001b[0m\n",
      "\u001b[0;31mNameError\u001b[0m: name 'h2o' is not defined"
     ]
    }
   ],
   "source": [
    "# Instantiate\n",
    "s = SixS()\n",
    "\n",
    "# Atmospheric constituents\n",
    "s.atmos_profile = AtmosProfile.UserWaterAndOzone(h2o,o3)\n",
    "s.aero_profile = AeroProfile.Continental\n",
    "s.aot550 = aot\n",
    "\n",
    "# Earth-Sun-satellite geometry\n",
    "s.geometry = Geometry.User()\n",
    "s.geometry.view_z = 0               # always NADIR (I think..)\n",
    "s.geometry.solar_z = solar_z        # solar zenith angle\n",
    "s.geometry.month = scene_date.month # month and day used for Earth-Sun distance\n",
    "s.geometry.day = scene_date.day     # month and day used for Earth-Sun distance\n",
    "s.altitudes.set_sensor_satellite_level()\n",
    "s.altitudes.set_target_custom_altitude(km)"
   ]
  },
  {
   "cell_type": "code",
   "execution_count": 50,
   "metadata": {},
   "outputs": [],
   "source": []
  },
  {
   "cell_type": "code",
   "execution_count": 50,
   "metadata": {},
   "outputs": [],
   "source": []
  },
  {
   "cell_type": "code",
   "execution_count": 50,
   "metadata": {},
   "outputs": [],
   "source": []
  },
  {
   "cell_type": "code",
   "execution_count": 50,
   "metadata": {},
   "outputs": [],
   "source": []
  },
  {
   "cell_type": "code",
   "execution_count": 50,
   "metadata": {},
   "outputs": [],
   "source": []
  },
  {
   "cell_type": "code",
   "execution_count": 50,
   "metadata": {},
   "outputs": [],
   "source": []
  },
  {
   "cell_type": "code",
   "execution_count": 50,
   "metadata": {},
   "outputs": [],
   "source": []
  },
  {
   "cell_type": "code",
   "execution_count": null,
   "metadata": {},
   "outputs": [],
   "source": [
    "def shadowMask(img,cloudMaskType):\n",
    "    \"\"\"\n",
    "    Finds cloud shadows in images\n",
    "    \n",
    "    Originally by Gennadii Donchyts, adapted by Ian Housman\n",
    "    \"\"\"\n",
    "    \n",
    "    def potentialShadow(cloudHeight):\n",
    "        \"\"\"\n",
    "        Finds potential shadow areas from array of cloud heights\n",
    "        \n",
    "        returns an image stack (i.e. list of images) \n",
    "        \"\"\"\n",
    "        cloudHeight = ee.Number(cloudHeight)\n",
    "        \n",
    "        # shadow vector length\n",
    "        shadowVector = zenith.tan().multiply(cloudHeight)\n",
    "        \n",
    "        # x and y components of shadow vector length\n",
    "        x = azimuth.cos().multiply(shadowVector).divide(nominalScale).round()\n",
    "        y = azimuth.sin().multiply(shadowVector).divide(nominalScale).round()\n",
    "        \n",
    "        # affine translation of clouds\n",
    "        cloudShift = cloudMask.changeProj(cloudMask.projection(), cloudMask.projection().translate(x, y)) # could incorporate shadow stretch?\n",
    "        \n",
    "        return cloudShift\n",
    "  \n",
    "    # select a cloud mask\n",
    "    cloudMask = img.select(cloudMaskType)\n",
    "    \n",
    "    # make sure it is binary (i.e. apply threshold to cloud score)\n",
    "    cloudScoreThreshold = 0.5\n",
    "    cloudMask = cloudMask.gt(cloudScoreThreshold)\n",
    "\n",
    "    # solar geometry (radians)\n",
    "    azimuth = ee.Number(img.get('solar_azimuth')).multiply(math.pi).divide(180.0).add(ee.Number(0.5).multiply(math.pi))\n",
    "    zenith  = ee.Number(0.5).multiply(math.pi ).subtract(ee.Number(img.get('solar_zenith')).multiply(math.pi).divide(180.0))\n",
    "\n",
    "    # find potential shadow areas based on cloud and solar geometry\n",
    "    nominalScale = cloudMask.projection().nominalScale()\n",
    "    cloudHeights = ee.List.sequence(500,4000,500)        \n",
    "    potentialShadowStack = cloudHeights.map(potentialShadow)\n",
    "    potentialShadow = ee.ImageCollection.fromImages(potentialShadowStack).max()\n",
    "\n",
    "    # shadows are not clouds\n",
    "    potentialShadow = potentialShadow.And(cloudMask.Not())\n",
    "\n",
    "    # (modified) dark pixel detection \n",
    "    darkPixels = toa.normalizedDifference(['green', 'swir2']).gt(0.25)\n",
    "\n",
    "    # shadows are dark\n",
    "    shadows = potentialShadow.And(darkPixels).rename(['shadows'])\n",
    "    \n",
    "    # might be scope for one last check here. Dark surfaces (e.g. water, basalt, etc.) cause shadow commission errors.\n",
    "    # perhaps using a NDWI (e.g. green and nir)\n",
    "\n",
    "    return img.addBands(shadows)"
   ]
  },
  {
   "cell_type": "code",
   "execution_count": 53,
   "metadata": {},
   "outputs": [],
   "source": [
    "# top of atmosphere reflectance\n",
    "toa = img.select(['B1','B2','B3','B4','B6','B8A','B9','B10', 'B11','B12'],\\\n",
    "                 ['aerosol', 'blue', 'green', 'red', 'red2','red4','h2o', 'cirrus','swir1', 'swir2'])\\\n",
    "                 .divide(10000).addBands(img.select('QA60'))\\\n",
    "                 .set('solar_azimuth',img.get('MEAN_SOLAR_AZIMUTH_ANGLE'))\\\n",
    "                 .set('solar_zenith',img.get('MEAN_SOLAR_ZENITH_ANGLE'))"
   ]
  },
  {
   "cell_type": "code",
   "execution_count": 54,
   "metadata": {},
   "outputs": [
    {
     "ename": "NameError",
     "evalue": "name 'ee' is not defined",
     "output_type": "error",
     "traceback": [
      "\u001b[0;31m---------------------------------------------------------------------------\u001b[0m",
      "\u001b[0;31mNameError\u001b[0m                                 Traceback (most recent call last)",
      "\u001b[0;32m<ipython-input-54-67dec0192637>\u001b[0m in \u001b[0;36m<module>\u001b[0;34m\u001b[0m\n\u001b[1;32m      1\u001b[0m \u001b[0;31m# clouds\u001b[0m\u001b[0;34m\u001b[0m\u001b[0;34m\u001b[0m\u001b[0;34m\u001b[0m\u001b[0m\n\u001b[0;32m----> 2\u001b[0;31m \u001b[0mtoa\u001b[0m \u001b[0;34m=\u001b[0m \u001b[0msentinelCloudScore\u001b[0m\u001b[0;34m(\u001b[0m\u001b[0mtoa\u001b[0m\u001b[0;34m)\u001b[0m\u001b[0;34m\u001b[0m\u001b[0;34m\u001b[0m\u001b[0m\n\u001b[0m\u001b[1;32m      3\u001b[0m \u001b[0mtoa\u001b[0m \u001b[0;34m=\u001b[0m \u001b[0mESAcloudMask\u001b[0m\u001b[0;34m(\u001b[0m\u001b[0mtoa\u001b[0m\u001b[0;34m)\u001b[0m\u001b[0;34m\u001b[0m\u001b[0;34m\u001b[0m\u001b[0m\n",
      "\u001b[0;32m~/Documents/S2DataProcessing/GEE/bin/cloudmasker.py\u001b[0m in \u001b[0;36msentinelCloudScore\u001b[0;34m(img)\u001b[0m\n\u001b[1;32m     23\u001b[0m     \"\"\"\n\u001b[1;32m     24\u001b[0m     \u001b[0;31m# cloud until proven otherwise\u001b[0m\u001b[0;34m\u001b[0m\u001b[0;34m\u001b[0m\u001b[0;34m\u001b[0m\u001b[0m\n\u001b[0;32m---> 25\u001b[0;31m     \u001b[0mscore\u001b[0m \u001b[0;34m=\u001b[0m \u001b[0mee\u001b[0m\u001b[0;34m.\u001b[0m\u001b[0mImage\u001b[0m\u001b[0;34m(\u001b[0m\u001b[0;36m1\u001b[0m\u001b[0;34m)\u001b[0m\u001b[0;34m\u001b[0m\u001b[0;34m\u001b[0m\u001b[0m\n\u001b[0m\u001b[1;32m     26\u001b[0m     \u001b[0;31m# clouds are reasonably bright\u001b[0m\u001b[0;34m\u001b[0m\u001b[0;34m\u001b[0m\u001b[0;34m\u001b[0m\u001b[0m\n\u001b[1;32m     27\u001b[0m     \u001b[0mscore\u001b[0m \u001b[0;34m=\u001b[0m \u001b[0mscore\u001b[0m\u001b[0;34m.\u001b[0m\u001b[0mmin\u001b[0m\u001b[0;34m(\u001b[0m\u001b[0mrescale\u001b[0m\u001b[0;34m(\u001b[0m\u001b[0mimg\u001b[0m\u001b[0;34m.\u001b[0m\u001b[0mselect\u001b[0m\u001b[0;34m(\u001b[0m\u001b[0;34m[\u001b[0m\u001b[0;34m'blue'\u001b[0m\u001b[0;34m]\u001b[0m\u001b[0;34m)\u001b[0m\u001b[0;34m,\u001b[0m \u001b[0;34m[\u001b[0m\u001b[0;36m0.1\u001b[0m\u001b[0;34m,\u001b[0m \u001b[0;36m0.5\u001b[0m\u001b[0;34m]\u001b[0m\u001b[0;34m)\u001b[0m\u001b[0;34m)\u001b[0m\u001b[0;34m\u001b[0m\u001b[0;34m\u001b[0m\u001b[0m\n",
      "\u001b[0;31mNameError\u001b[0m: name 'ee' is not defined"
     ]
    }
   ],
   "source": [
    "# clouds\n",
    "toa = sentinelCloudScore(toa)\n",
    "toa = ESAcloudMask(toa)"
   ]
  },
  {
   "cell_type": "code",
   "execution_count": null,
   "metadata": {},
   "outputs": [],
   "source": [
    "# cloud shadow\n",
    "toa = shadowMask(toa,'cloudScore')"
   ]
  },
  {
   "cell_type": "code",
   "execution_count": null,
   "metadata": {},
   "outputs": [],
   "source": [
    "# display region\n",
    "region = geom.buffer(10000).bounds().getInfo()['coordinates']"
   ]
  },
  {
   "cell_type": "code",
   "execution_count": null,
   "metadata": {},
   "outputs": [],
   "source": [
    "# quicklooks\n",
    "quicklook(['red','green','blue'], 0, 0.25, region, gamma=1.5, title='RGB')\n",
    "quicklook('cloudScore', 0, 1, region, title='Cloud Score')\n",
    "quicklook('ESA_clouds', 0, 1, region, title = 'ESA Clouds (QA60)')\n",
    "quicklook('shadows', 0, 1, region, title = 'Shadow mask')"
   ]
  },
  {
   "cell_type": "code",
   "execution_count": null,
   "metadata": {},
   "outputs": [],
   "source": []
  }
 ],
 "metadata": {
  "kernelspec": {
   "display_name": "geepy6s-env",
   "language": "python",
   "name": "geepy6s-env"
  },
  "language_info": {
   "codemirror_mode": {
    "name": "ipython",
    "version": 3
   },
   "file_extension": ".py",
   "mimetype": "text/x-python",
   "name": "python",
   "nbconvert_exporter": "python",
   "pygments_lexer": "ipython3",
   "version": "3.6.7"
  }
 },
 "nbformat": 4,
 "nbformat_minor": 2
}
