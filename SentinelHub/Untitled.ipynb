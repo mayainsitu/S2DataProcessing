{
 "cells": [
  {
   "cell_type": "code",
   "execution_count": 1,
   "metadata": {},
   "outputs": [
    {
     "name": "stderr",
     "output_type": "stream",
     "text": [
      "INFO:oauth2client.transport:Attempting refresh to obtain initial access_token\n",
      "INFO:oauth2client.client:Refreshing access_token\n"
     ]
    }
   ],
   "source": [
    "import sys\n",
    "import os\n",
    "import ee \n",
    "\n",
    "%reload_ext autoreload\n",
    "%autoreload 2\n",
    "%matplotlib inline\n",
    "\n",
    "#import cv2\n",
    "import pickle\n",
    "import datetime\n",
    "import numpy as np\n",
    "import numpy.ma as ma\n",
    "import pandas as pd\n",
    "from matplotlib import patches as mpatches, colors\n",
    "from matplotlib.colors import ListedColormap\n",
    "import matplotlib as mpl\n",
    "import seaborn as sns\n",
    "\n",
    "#sys.path.append('/home/maya/Dropbox/InternshipWUR/Scripting/git_workspace/S2DataProcessing/')\n",
    "import matplotlib.pyplot as plt\n",
    "from s2cloudless import *\n",
    "from glob import glob\n",
    "\n",
    "import rasterio\n",
    "import geopandas as gpd\n",
    "from shapely.geometry import mapping\n",
    "#import earthpy as et\n",
    "#import earthpy.spatial as es\n",
    "#from osgeo import gdal, gdal_array, osr\n",
    "\n",
    "plt.ion()\n",
    "sns.set_style('white')\n",
    "sns.set(font_scale=1.5)\n",
    "\n",
    "#os.chdir(os.path.join(et.io.HOME, 'Documents/USNInternship/Sentinel_Imagery/'))\n",
    "\n",
    "ee.Initialize()"
   ]
  },
  {
   "cell_type": "code",
   "execution_count": 2,
   "metadata": {},
   "outputs": [],
   "source": [
    "def overlay_cloud_mask(image, mask=None, factor=1./255, figsize=(15, 15), fig=None):\n",
    "    \"\"\"\n",
    "    Utility function for plotting RGB images with binary mask overlayed.\n",
    "    \"\"\"\n",
    "    if fig == None:\n",
    "        plt.figure(figsize=figsize)\n",
    "    rgb = np.array(image)\n",
    "    plt.imshow(rgb * factor)\n",
    "    if mask is not None:\n",
    "        cloud_image = np.zeros((mask.shape[0], mask.shape[1], 4), dtype=np.uint8)\n",
    "        cloud_image[mask == 1] = np.asarray([255, 255, 0, 100], dtype=np.uint8)\n",
    "        plt.imshow(cloud_image)\n",
    "def plot_probability_map(rgb_image, prob_map, factor=1./255, figsize=(15, 30)):\n",
    "    \"\"\"\n",
    "    Utility function for plotting a RGB image and its cloud probability map next to each other. \n",
    "    \"\"\"\n",
    "    plt.figure(figsize=figsize)\n",
    "    plot = plt.subplot(1, 2, 1)\n",
    "    plt.imshow(rgb_image * factor)\n",
    "    plot = plt.subplot(1, 2, 2)\n",
    "    plot.imshow(prob_map, cmap=plt.cm.inferno)\n",
    "def plot_cloud_mask(mask, figsize=(15, 15), fig=None):\n",
    "    \"\"\"\n",
    "    Utility function for plotting a binary cloud mask.\n",
    "    \"\"\"\n",
    "    if fig == None:\n",
    "        plt.figure(figsize=figsize)\n",
    "    plt.imshow(mask, cmap=plt.cm.gray)\n",
    "def plot_previews(data, dates, cols=4, figsize=(15, 15)):\n",
    "    \"\"\"\n",
    "    Utility to plot small \"true color\" previews.\n",
    "    \"\"\"\n",
    "    width = data[-1].shape[1]\n",
    "    height = data[-1].shape[0]\n",
    "    \n",
    "    rows = data.shape[0] // cols + (1 if data.shape[0] % cols else 0)\n",
    "    fig, axs = plt.subplots(nrows=rows, ncols=cols, figsize=figsize)\n",
    "    for index, ax in enumerate(axs.flatten()):\n",
    "        if index < data.shape[0]:\n",
    "            caption = '{}: {}'.format(index, dates[index].strftime('%Y-%m-%d'))\n",
    "            ax.set_axis_off()\n",
    "            ax.imshow(data[index] / 255., vmin=0.0, vmax=1.0)\n",
    "            ax.text(0, -2, caption, fontsize=12, color='g')\n",
    "        else:\n",
    "            ax.set_axis_off()"
   ]
  },
  {
   "cell_type": "code",
   "execution_count": 21,
   "metadata": {},
   "outputs": [],
   "source": [
    "AOI = ee.Geometry.Rectangle(8.212529728804157, 60.11440450337899, 8.025762150679157, 60.02086917002816)\n",
    "\n",
    "import ee\n",
    "ee.Initialize()\n",
    "image = ee.Image(ee.ImageCollection(\"COPERNICUS/S2\")\\\n",
    "        .filterBounds(AOI)\\\n",
    "        .filterDate('2017-10-01', '2017-10-07').first())\n",
    "\n",
    "imarr = np.array(image)"
   ]
  },
  {
   "cell_type": "code",
   "execution_count": 104,
   "metadata": {},
   "outputs": [],
   "source": [
    "area = ee.Geometry.Polygon([[[105.532,19.059],[105.606,19.058],[105.605,19.108],\n",
    "                             [105.530,19.110],[105.532,19.059]]])\n",
    " \n",
    "# define the image\n",
    "img = ee.Image(\"COPERNICUS/S2/20160209T034234_20160209T090731_T48QWG\")\n",
    " \n",
    "# do any ee operation here\n",
    "ndvi = ee.Image(img.normalizedDifference(['B8', 'B4']))\n",
    "img_relbands = ee.Image(img.select(['B1', 'B2', 'B4', 'B5', 'B8', 'B8A', 'B9', 'B10', 'B11', 'B12']))\n",
    "timedate = img.get('GENERATION_TIME').getInfo()\n",
    " \n",
    "# get the lat lon and add the ndvi\n",
    "latlon = ee.Image.pixelLonLat().addBands(img.select(['B1','B2','B4','B5','B8','B8A','B9','B10','B11','B12']))\n",
    "#latlon = ee.Image.pixelLonLat().addBands(ndvi) \n",
    "\n",
    "# apply reducer to list\n",
    "latlon = latlon.reduceRegion(\n",
    "  reducer=ee.Reducer.toList(),\n",
    "  geometry=area,\n",
    "  maxPixels=1e8,\n",
    "  scale=20)"
   ]
  },
  {
   "cell_type": "markdown",
   "metadata": {},
   "source": [
    "### script from https://mygeoblog.com/2017/10/06/from-gee-to-numpy-to-geotiff/ "
   ]
  },
  {
   "cell_type": "code",
   "execution_count": 108,
   "metadata": {},
   "outputs": [
    {
     "name": "stdout",
     "output_type": "stream",
     "text": [
      "(116491,) (116491,) (116491,) (116491,)\n"
     ]
    }
   ],
   "source": [
    "# get data into different arrays\n",
    "#data = np.array((ee.Array(latlon.get(\"nd\")).getInfo()))\n",
    "B1 = np.array((ee.Array(latlon.get('B1')).getInfo()))\n",
    "B2 = np.array((ee.Array(latlon.get('B2')).getInfo()))\n",
    "B4 = np.array((ee.Array(latlon.get('B4')).getInfo()))\n",
    "B5 = np.array((ee.Array(latlon.get('B5')).getInfo()))\n",
    "B8 = np.array((ee.Array(latlon.get('B8')).getInfo()))\n",
    "B8A = np.array((ee.Array(latlon.get('B8A')).getInfo()))\n",
    "B9 = np.array((ee.Array(latlon.get('B9')).getInfo()))\n",
    "B10 = np.array((ee.Array(latlon.get('B10')).getInfo()))\n",
    "B11 = np.array((ee.Array(latlon.get('B11')).getInfo()))\n",
    "B12 = np.array((ee.Array(latlon.get('B12')).getInfo()))\n",
    "lats = np.array((ee.Array(latlon.get(\"latitude\")).getInfo()))\n",
    "lons = np.array((ee.Array(latlon.get(\"longitude\")).getInfo()))\n",
    "\n",
    "# get the unique coordinates\n",
    "uniqueLats = np.unique(lats)\n",
    "uniqueLons = np.unique(lons)\n",
    " \n",
    "# get number of columns and rows from coordinates\n",
    "ncols = len(uniqueLons)    \n",
    "nrows = len(uniqueLats)\n",
    " \n",
    "# determine pixelsizes\n",
    "ys = uniqueLats[1] - uniqueLats[0] \n",
    "xs = uniqueLons[1] - uniqueLons[0]"
   ]
  },
  {
   "cell_type": "code",
   "execution_count": 161,
   "metadata": {},
   "outputs": [],
   "source": [
    "data = np.array((B1,B2,B4,B5,B8,B8A,B9,B10,B11,B12))\n",
    "#for i in range(0,10):\n",
    "#    print( i )"
   ]
  },
  {
   "cell_type": "code",
   "execution_count": 164,
   "metadata": {},
   "outputs": [],
   "source": [
    "# create an array with dimensions of image (3D array, as it is a multiband image we want)\n",
    "# this has not worked properly - check script\n",
    "arr2 = np.zeros([nrows, ncols,10], np.float32) #-9999\n",
    "\n",
    "counter2 =0            \n",
    "\n",
    "for y in range(0,len(arr2),1):\n",
    "    for x in range(0,len(arr2[0]),1):\n",
    "        for z in range(0,10): #put 10 here, as 10 bands are input (put 13 if all 13 are input etc)\n",
    "            if lats[counter2] == uniqueLats[y] and lons[counter2] == uniqueLons[x] and counter2 < len(lats)-1:\n",
    "                counter2+=1\n",
    "                arr2[len(uniqueLats)-1-y,x] = data[z][counter2] # we start from lower left corner"
   ]
  },
  {
   "cell_type": "code",
   "execution_count": 169,
   "metadata": {},
   "outputs": [
    {
     "data": {
      "image/png": "[encoded data removed]",
      "text/plain": [
       "<Figure size 432x288 with 1 Axes>"
      ]
     },
     "metadata": {},
     "output_type": "display_data"
    }
   ],
   "source": [
    "import matplotlib.pyplot as plt        \n",
    "plt.imshow(arr2[:,:,1])\n",
    "plt.show()"
   ]
  },
  {
   "cell_type": "code",
   "execution_count": 173,
   "metadata": {},
   "outputs": [
    {
     "data": {
      "text/plain": [
       "3"
      ]
     },
     "execution_count": 173,
     "metadata": {},
     "output_type": "execute_result"
    }
   ],
   "source": [
    "arr2[:,:,5]\n",
    "len(arr2.shape)"
   ]
  },
  {
   "cell_type": "code",
   "execution_count": 165,
   "metadata": {},
   "outputs": [],
   "source": [
    "cloud_detector = S2PixelCloudDetector(threshold=0.4, average_over=4, dilation_size=2)"
   ]
  },
  {
   "cell_type": "code",
   "execution_count": 166,
   "metadata": {},
   "outputs": [
    {
     "ename": "ValueError",
     "evalue": "Array of input images has to be a 4-dimensional array of shape[n_images, n_pixels_y, n_pixels_x, n_bands]",
     "output_type": "error",
     "traceback": [
      "\u001b[0;31m---------------------------------------------------------------------------\u001b[0m",
      "\u001b[0;31mValueError\u001b[0m                                Traceback (most recent call last)",
      "\u001b[0;32m<ipython-input-166-849527126a5d>\u001b[0m in \u001b[0;36m<module>\u001b[0;34m\u001b[0m\n\u001b[0;32m----> 1\u001b[0;31m \u001b[0mcloud_probs\u001b[0m \u001b[0;34m=\u001b[0m \u001b[0mcloud_detector\u001b[0m\u001b[0;34m.\u001b[0m\u001b[0mget_cloud_probability_maps\u001b[0m\u001b[0;34m(\u001b[0m\u001b[0marr2\u001b[0m\u001b[0;34m)\u001b[0m\u001b[0;34m\u001b[0m\u001b[0;34m\u001b[0m\u001b[0m\n\u001b[0m",
      "\u001b[0;32m~/.local/lib/python3.6/site-packages/s2cloudless/S2PixelCloudDetector.py\u001b[0m in \u001b[0;36mget_cloud_probability_maps\u001b[0;34m(self, X)\u001b[0m\n\u001b[1;32m    107\u001b[0m             \u001b[0mX\u001b[0m \u001b[0;34m=\u001b[0m \u001b[0mX\u001b[0m\u001b[0;34m[\u001b[0m\u001b[0;34m...\u001b[0m\u001b[0;34m,\u001b[0m \u001b[0mself\u001b[0m\u001b[0;34m.\u001b[0m\u001b[0mBAND_IDXS\u001b[0m\u001b[0;34m]\u001b[0m\u001b[0;34m\u001b[0m\u001b[0;34m\u001b[0m\u001b[0m\n\u001b[1;32m    108\u001b[0m \u001b[0;34m\u001b[0m\u001b[0m\n\u001b[0;32m--> 109\u001b[0;31m         \u001b[0;32mreturn\u001b[0m \u001b[0mself\u001b[0m\u001b[0;34m.\u001b[0m\u001b[0mclassifier\u001b[0m\u001b[0;34m.\u001b[0m\u001b[0mimage_predict_proba\u001b[0m\u001b[0;34m(\u001b[0m\u001b[0mX\u001b[0m\u001b[0;34m)\u001b[0m\u001b[0;34m[\u001b[0m\u001b[0;34m...\u001b[0m\u001b[0;34m,\u001b[0m \u001b[0;36m1\u001b[0m\u001b[0;34m]\u001b[0m\u001b[0;34m\u001b[0m\u001b[0;34m\u001b[0m\u001b[0m\n\u001b[0m\u001b[1;32m    110\u001b[0m \u001b[0;34m\u001b[0m\u001b[0m\n\u001b[1;32m    111\u001b[0m     \u001b[0;32mdef\u001b[0m \u001b[0mget_cloud_masks\u001b[0m\u001b[0;34m(\u001b[0m\u001b[0mself\u001b[0m\u001b[0;34m,\u001b[0m \u001b[0mX\u001b[0m\u001b[0;34m)\u001b[0m\u001b[0;34m:\u001b[0m\u001b[0;34m\u001b[0m\u001b[0;34m\u001b[0m\u001b[0m\n",
      "\u001b[0;32m~/.local/lib/python3.6/site-packages/s2cloudless/PixelClassifier.py\u001b[0m in \u001b[0;36mimage_predict_proba\u001b[0;34m(self, X)\u001b[0m\n\u001b[1;32m     90\u001b[0m         \"\"\"\n\u001b[1;32m     91\u001b[0m \u001b[0;34m\u001b[0m\u001b[0m\n\u001b[0;32m---> 92\u001b[0;31m         \u001b[0mpixels\u001b[0m \u001b[0;34m=\u001b[0m \u001b[0mself\u001b[0m\u001b[0;34m.\u001b[0m\u001b[0mextract_pixels\u001b[0m\u001b[0;34m(\u001b[0m\u001b[0mX\u001b[0m\u001b[0;34m)\u001b[0m\u001b[0;34m\u001b[0m\u001b[0;34m\u001b[0m\u001b[0m\n\u001b[0m\u001b[1;32m     93\u001b[0m \u001b[0;34m\u001b[0m\u001b[0m\n\u001b[1;32m     94\u001b[0m         \u001b[0mprobabilities\u001b[0m \u001b[0;34m=\u001b[0m \u001b[0mself\u001b[0m\u001b[0;34m.\u001b[0m\u001b[0mclassifier\u001b[0m\u001b[0;34m.\u001b[0m\u001b[0mpredict_proba\u001b[0m\u001b[0;34m(\u001b[0m\u001b[0mpixels\u001b[0m\u001b[0;34m)\u001b[0m\u001b[0;34m\u001b[0m\u001b[0;34m\u001b[0m\u001b[0m\n",
      "\u001b[0;32m~/.local/lib/python3.6/site-packages/s2cloudless/PixelClassifier.py\u001b[0m in \u001b[0;36mextract_pixels\u001b[0;34m(X)\u001b[0m\n\u001b[1;32m     55\u001b[0m         \"\"\"\n\u001b[1;32m     56\u001b[0m         \u001b[0;32mif\u001b[0m \u001b[0mlen\u001b[0m\u001b[0;34m(\u001b[0m\u001b[0mX\u001b[0m\u001b[0;34m.\u001b[0m\u001b[0mshape\u001b[0m\u001b[0;34m)\u001b[0m \u001b[0;34m!=\u001b[0m \u001b[0;36m4\u001b[0m\u001b[0;34m:\u001b[0m\u001b[0;34m\u001b[0m\u001b[0;34m\u001b[0m\u001b[0m\n\u001b[0;32m---> 57\u001b[0;31m             raise ValueError('Array of input images has to be a 4-dimensional array of shape'\n\u001b[0m\u001b[1;32m     58\u001b[0m                              '[n_images, n_pixels_y, n_pixels_x, n_bands]')\n\u001b[1;32m     59\u001b[0m \u001b[0;34m\u001b[0m\u001b[0m\n",
      "\u001b[0;31mValueError\u001b[0m: Array of input images has to be a 4-dimensional array of shape[n_images, n_pixels_y, n_pixels_x, n_bands]"
     ]
    }
   ],
   "source": [
    "cloud_probs = cloud_detector.get_cloud_probability_maps(arr2)"
   ]
  },
  {
   "cell_type": "code",
   "execution_count": null,
   "metadata": {},
   "outputs": [],
   "source": [
    "cloud_masks = cloud_detector.get_cloud_masks(np.array(wcsbands))"
   ]
  }
 ],
 "metadata": {
  "kernelspec": {
   "display_name": "Python (Gee-Py6s env)",
   "language": "python",
   "name": "py6s-env"
  },
  "language_info": {
   "codemirror_mode": {
    "name": "ipython",
    "version": 3
   },
   "file_extension": ".py",
   "mimetype": "text/x-python",
   "name": "python",
   "nbconvert_exporter": "python",
   "pygments_lexer": "ipython3",
   "version": "3.6.7"
  }
 },
 "nbformat": 4,
 "nbformat_minor": 2
}
