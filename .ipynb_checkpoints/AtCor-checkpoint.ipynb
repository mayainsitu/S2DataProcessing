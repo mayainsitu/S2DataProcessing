{
 "cells": [
  {
   "cell_type": "markdown",
   "metadata": {},
   "source": [
    "# Creating cloud masks and generating atmospherically-corrected images\n",
    "### Set instance (from sentinelhub free account (1 month trial!) and import relevant packages\n",
    "#### Before running, make sure you start the docker so that the environments are correct - do this with: \n",
    "docker run -it --rm -p 8888:8888 -v $PWD/:/home/jovyan krostir/jupyter-geo-sentinelhub\n",
    "\n",
    "OR just run from environment \"atcor_env\"\n",
    "#### For sentinelhub python package information visit https://sentinelhub-py.readthedocs.io/en/latest/examples/ogc_request.html"
   ]
  },
  {
   "cell_type": "code",
   "execution_count": 10,
   "metadata": {
    "collapsed": true
   },
   "outputs": [],
   "source": [
    "INSTANCE_ID = 'ce54ab2b-9dc3-4592-8a37-bbc96d450750'  # In case you put instance ID into cofniguration file you can leave this unchanged"
   ]
  },
  {
   "cell_type": "code",
   "execution_count": 11,
   "metadata": {},
   "outputs": [],
   "source": [
    "#import sys\n",
    "#!{sys.executable} -m pip3 install sentinelhub"
   ]
  },
  {
   "cell_type": "code",
   "execution_count": 22,
   "metadata": {},
   "outputs": [],
   "source": [
    "from sentinelhub import *\n",
    "%reload_ext autoreload\n",
    "%autoreload 2\n",
    "%matplotlib inline\n",
    "\n",
    "import cv2\n",
    "import sys\n",
    "import datetime\n",
    "import numpy as np\n",
    "\n",
    "sys.path.append('/home/maya/Dropbox/InternshipWUR/Scripting/git_workspace/S2DataProcessing/')\n",
    "import matplotlib.pyplot as plt\n",
    "from s2cloudless import *\n",
    "\n",
    "\n",
    "from glob import glob\n",
    "import os\n",
    "\n",
    "import numpy.ma as ma\n",
    "import pandas as pd\n",
    "from matplotlib import patches as mpatches, colors\n",
    "from matplotlib.colors import ListedColormap\n",
    "import matplotlib as mpl\n",
    "import seaborn as sns\n",
    "\n",
    "import rasterio\n",
    "import geopandas as gpd\n",
    "from shapely.geometry import mapping\n",
    "\n",
    "import earthpy as et\n",
    "import earthpy.spatial as es\n",
    "\n",
    "plt.ion()\n",
    "sns.set_style('white')\n",
    "sns.set(font_scale=1.5)\n",
    "\n",
    "os.chdir(os.path.join(et.io.HOME, 'earth-analytics'))\n"
   ]
  },
  {
   "cell_type": "markdown",
   "metadata": {},
   "source": [
    "#### Defining function to plot tiles"
   ]
  },
  {
   "cell_type": "code",
   "execution_count": 13,
   "metadata": {
    "collapsed": true
   },
   "outputs": [],
   "source": [
    "def plot_image(image, factor=1):\n",
    "    \"\"\"\n",
    "    Utility function for plotting RGB images.\n",
    "    \"\"\"\n",
    "    fig = plt.subplots(nrows=1, ncols=1, figsize=(15, 7))\n",
    "\n",
    "    if np.issubdtype(image.dtype, np.floating):\n",
    "        plt.imshow(np.minimum(image * factor, 1))\n",
    "    else:\n",
    "        plt.imshow(image)"
   ]
  },
  {
   "cell_type": "markdown",
   "metadata": {},
   "source": [
    "#### Define cloud masker functions"
   ]
  },
  {
   "cell_type": "code",
   "execution_count": 14,
   "metadata": {
    "collapsed": true
   },
   "outputs": [],
   "source": [
    "def overlay_cloud_mask(image, mask=None, factor=1./255, figsize=(15, 15), fig=None):\n",
    "    \"\"\"\n",
    "    Utility function for plotting RGB images with binary mask overlayed.\n",
    "    \"\"\"\n",
    "    if fig == None:\n",
    "        plt.figure(figsize=figsize)\n",
    "    rgb = np.array(image)\n",
    "    plt.imshow(rgb * factor)\n",
    "    if mask is not None:\n",
    "        cloud_image = np.zeros((mask.shape[0], mask.shape[1], 4), dtype=np.uint8)\n",
    "        cloud_image[mask == 1] = np.asarray([255, 255, 0, 100], dtype=np.uint8)\n",
    "        plt.imshow(cloud_image)"
   ]
  },
  {
   "cell_type": "code",
   "execution_count": 15,
   "metadata": {
    "collapsed": true
   },
   "outputs": [],
   "source": [
    "def plot_probability_map(rgb_image, prob_map, factor=1./255, figsize=(15, 30)):\n",
    "    \"\"\"\n",
    "    Utility function for plotting a RGB image and its cloud probability map next to each other. \n",
    "    \"\"\"\n",
    "    plt.figure(figsize=figsize)\n",
    "    plot = plt.subplot(1, 2, 1)\n",
    "    plt.imshow(rgb_image * factor)\n",
    "    plot = plt.subplot(1, 2, 2)\n",
    "    plot.imshow(prob_map, cmap=plt.cm.inferno)"
   ]
  },
  {
   "cell_type": "code",
   "execution_count": 16,
   "metadata": {
    "collapsed": true
   },
   "outputs": [],
   "source": [
    "def plot_cloud_mask(mask, figsize=(15, 15), fig=None):\n",
    "    \"\"\"\n",
    "    Utility function for plotting a binary cloud mask.\n",
    "    \"\"\"\n",
    "    if fig == None:\n",
    "        plt.figure(figsize=figsize)\n",
    "    plt.imshow(mask, cmap=plt.cm.gray)"
   ]
  },
  {
   "cell_type": "code",
   "execution_count": 17,
   "metadata": {
    "collapsed": true
   },
   "outputs": [],
   "source": [
    "def plot_previews(data, dates, cols=4, figsize=(15, 15)):\n",
    "    \"\"\"\n",
    "    Utility to plot small \"true color\" previews.\n",
    "    \"\"\"\n",
    "    width = data[-1].shape[1]\n",
    "    height = data[-1].shape[0]\n",
    "    \n",
    "    rows = data.shape[0] // cols + (1 if data.shape[0] % cols else 0)\n",
    "    fig, axs = plt.subplots(nrows=rows, ncols=cols, figsize=figsize)\n",
    "    for index, ax in enumerate(axs.flatten()):\n",
    "        if index < data.shape[0]:\n",
    "            caption = '{}: {}'.format(index, dates[index].strftime('%Y-%m-%d'))\n",
    "            ax.set_axis_off()\n",
    "            ax.imshow(data[index] / 255., vmin=0.0, vmax=1.0)\n",
    "            ax.text(0, -2, caption, fontsize=12, color='g')\n",
    "        else:\n",
    "            ax.set_axis_off()"
   ]
  },
  {
   "cell_type": "markdown",
   "metadata": {},
   "source": [
    "#### Setting AOI"
   ]
  },
  {
   "cell_type": "code",
   "execution_count": 23,
   "metadata": {},
   "outputs": [],
   "source": [
    "hardangervidda_coords_wgs84 = [8.3018, 60.3967,6.7596,59.9] #rectangle for AOI\n",
    "hardanger_bbox = BBox(bbox=hardangervidda_coords_wgs84, crs=CRS.WGS84) #bounding box, interpretable by sentinelhub"
   ]
  },
  {
   "cell_type": "markdown",
   "metadata": {},
   "source": [
    "#### WMS request for multiple true colour images, within time window.\n",
    "Width and height set - can also just set one, and the other will adjust automatically"
   ]
  },
  {
   "cell_type": "code",
   "execution_count": null,
   "metadata": {
    "collapsed": true
   },
   "outputs": [],
   "source": [
    "wms_true_color_request = WmsRequest(layer='TRUE-COLOR-S2-L1C',\n",
    "                                    bbox=hardanger_bbox,\n",
    "                                    time=('2017-10-01', '2017-10-31'),\n",
    "                                    width=600, #height=856,\n",
    "                                    instance_id=INSTANCE_ID,\n",
    "                                    maxcc=0.5,\n",
    "                                    custom_url_params={CustomUrlParam.ATMFILTER: 'ATMCOR',\n",
    "                                                   CustomUrlParam.TRANSPARENT: True,\n",
    "                                                   CustomUrlParam.SHOWLOGO: False})"
   ]
  },
  {
   "cell_type": "code",
   "execution_count": null,
   "metadata": {
    "collapsed": true
   },
   "outputs": [],
   "source": [
    "%%timeit\n",
    "#wms_true_color_img = wms_true_color_request.get_data()\n",
    "wms_true_color_img = wms_true_color_request.get_data()"
   ]
  },
  {
   "cell_type": "code",
   "execution_count": null,
   "metadata": {},
   "outputs": [],
   "source": [
    "print('There are %d Sentinel-2 images available for 2017.' % len(wms_true_color_img))\n",
    "print(type(wms_true_color_img))\n",
    "print(type(wms_true_color_img[1]))\n",
    "print(type(wms_true_color_request))"
   ]
  },
  {
   "cell_type": "markdown",
   "metadata": {},
   "source": [
    "#### Preview the data queried"
   ]
  },
  {
   "cell_type": "code",
   "execution_count": null,
   "metadata": {},
   "outputs": [],
   "source": [
    "plot_previews(np.asarray(wms_true_color_img), wms_true_color_request.get_dates(), cols=4, figsize=(15, 10))"
   ]
  },
  {
   "cell_type": "code",
   "execution_count": null,
   "metadata": {},
   "outputs": [],
   "source": [
    "plot_image(wms_true_color_img[4])"
   ]
  },
  {
   "cell_type": "code",
   "execution_count": null,
   "metadata": {},
   "outputs": [],
   "source": [
    "print('These %d images were taken on the following dates:' % len(wms_true_color_img))\n",
    "for index, date in enumerate(wms_true_color_request.get_dates()):\n",
    "    print(' - image %d was taken on %s' % (index, date))"
   ]
  },
  {
   "cell_type": "markdown",
   "metadata": {},
   "source": [
    "## Cloud masking \n",
    "### Make a new WMS request - note: cannot have atmospheric correction activated - interferes with result"
   ]
  },
  {
   "cell_type": "code",
   "execution_count": null,
   "metadata": {
    "collapsed": true
   },
   "outputs": [],
   "source": [
    "bands_script = 'return [B01,B02,B04,B05,B08,B8A,B09,B10,B11,B12]'"
   ]
  },
  {
   "cell_type": "code",
   "execution_count": null,
   "metadata": {
    "collapsed": true
   },
   "outputs": [],
   "source": [
    "wms_bands_request = WmsRequest(layer='TRUE-COLOR-S2-L1C',\n",
    "                               custom_url_params={\n",
    "                                   CustomUrlParam.EVALSCRIPT: bands_script,\n",
    "                                   CustomUrlParam.ATMFILTER: 'NONE'},#or ATMCOR\n",
    "                               bbox=hardanger_bbox, \n",
    "                               maxcc=0.5,\n",
    "                               time=('2017-10-01', '2017-10-30'), \n",
    "                               width=600, height=None,\n",
    "                               image_format=MimeType.TIFF_d32f,\n",
    "                               #image_format=MimeType.TIFF_d32f,\n",
    "                               instance_id=INSTANCE_ID)\n",
    "\n",
    "wms_bands_cor_request = WmsRequest(layer='TRUE-COLOR-S2-L1C',\n",
    "                                   custom_url_params={\n",
    "                                       CustomUrlParam.EVALSCRIPT: bands_script,\n",
    "                                       CustomUrlParam.ATMFILTER: 'ATMCOR'},#or ATMCOR\n",
    "                                   bbox=hardanger_bbox, \n",
    "                                   maxcc=0.5,\n",
    "                                   time=('2017-10-01', '2017-10-30'), \n",
    "                                   width=600, height=None,\n",
    "                                   image_format=MimeType.TIFF_d32f,\n",
    "                                   instance_id=INSTANCE_ID)"
   ]
  },
  {
   "cell_type": "code",
   "execution_count": null,
   "metadata": {
    "collapsed": true
   },
   "outputs": [],
   "source": [
    "wms_bands = wms_bands_request.get_data()\n",
    "wms_bands_cor = wms_bands_cor_request.get_data()"
   ]
  },
  {
   "cell_type": "code",
   "execution_count": null,
   "metadata": {
    "collapsed": true
   },
   "outputs": [],
   "source": [
    "cloud_detector = S2PixelCloudDetector(threshold=0.4, average_over=4, dilation_size=2)"
   ]
  },
  {
   "cell_type": "code",
   "execution_count": null,
   "metadata": {
    "collapsed": true
   },
   "outputs": [],
   "source": [
    "cloud_probs = cloud_detector.get_cloud_probability_maps(np.array(wms_bands))"
   ]
  },
  {
   "cell_type": "code",
   "execution_count": null,
   "metadata": {
    "collapsed": true
   },
   "outputs": [],
   "source": [
    "cloud_masks = cloud_detector.get_cloud_masks(np.array(wms_bands))"
   ]
  },
  {
   "cell_type": "markdown",
   "metadata": {},
   "source": [
    "## Visualise the results"
   ]
  },
  {
   "cell_type": "code",
   "execution_count": null,
   "metadata": {
    "scrolled": true
   },
   "outputs": [],
   "source": [
    "image_idx = 4\n",
    "overlay_cloud_mask(wms_true_color_img[image_idx], cloud_masks[image_idx])"
   ]
  },
  {
   "cell_type": "code",
   "execution_count": null,
   "metadata": {
    "collapsed": true
   },
   "outputs": [],
   "source": [
    "#plot_probability_map(wms_true_color_img[image_idx], cloud_probs[image_idx])"
   ]
  },
  {
   "cell_type": "code",
   "execution_count": null,
   "metadata": {
    "collapsed": true
   },
   "outputs": [],
   "source": [
    "#plot_cloud_mask(cloud_masks[image_idx])"
   ]
  },
  {
   "cell_type": "markdown",
   "metadata": {},
   "source": [
    "### Set value below cloud mask to NoData"
   ]
  },
  {
   "cell_type": "code",
   "execution_count": null,
   "metadata": {},
   "outputs": [],
   "source": [
    "fig, ax = plt.subplots(figsize=(12, 8))\n",
    "im = ax.imshow(cloud_masks[image_idx],\n",
    "               cmap=plt.cm.get_cmap('tab20b', 2))\n",
    "cbar = fig.colorbar(im)\n",
    "cbar.set_ticks((0.25, .75))\n",
    "cbar.ax.set_yticklabels([\"Clear Pixels\", \"Cloud / Shadow Pixels\"])\n",
    "ax.set_title(\"Sentinel Cloud Mask | Light Purple Pixels will be Masked\")\n",
    "ax.set_axis_off()\n",
    "\n",
    "plt.show()"
   ]
  },
  {
   "cell_type": "code",
   "execution_count": null,
   "metadata": {},
   "outputs": [],
   "source": [
    "print(cloud_masks.shape)\n",
    "type(cloud_masks[2])"
   ]
  },
  {
   "cell_type": "code",
   "execution_count": null,
   "metadata": {
    "collapsed": true
   },
   "outputs": [],
   "source": [
    "def inpaint(originalImage, mask):\n",
    "    [rows, columns, channels] = originalImage.shape\n",
    "    result = np.zeros((rows,columns,channels))\n",
    "    for row in range(rows):\n",
    "        for column in range(columns):\n",
    "            if(mask[row,column]==0):\n",
    "                result[row,column] = originalImage[row,column]\n",
    "            else:\n",
    "                result[row,column] = (0,0,255)\n",
    "    return result"
   ]
  },
  {
   "cell_type": "code",
   "execution_count": null,
   "metadata": {},
   "outputs": [],
   "source": [
    "#result = wms_true_color_img[image_idx].copy()\n",
    "result= wms_bands[image_idx].copy()\n",
    "mask2d=cloud_masks[image_idx].copy()\n",
    "cloud_masks[image_idx].shape"
   ]
  },
  {
   "cell_type": "markdown",
   "metadata": {},
   "source": [
    "#### copy mask x times (no. of bands)"
   ]
  },
  {
   "cell_type": "code",
   "execution_count": null,
   "metadata": {},
   "outputs": [],
   "source": [
    "mask3d = np.repeat(cloud_masks[image_idx][:, :, np.newaxis], 10, axis=2)\n",
    "mask3d.shape"
   ]
  },
  {
   "cell_type": "markdown",
   "metadata": {},
   "source": [
    "following solutions are two ways of doing the same thing and seem correct"
   ]
  },
  {
   "cell_type": "code",
   "execution_count": null,
   "metadata": {},
   "outputs": [],
   "source": [
    "sentinel_pre_mask = np.broadcast_to(mask3d==1, result.shape)\n",
    "sentinel_pre_cl_free = np.ma.masked_array(result,mask=sentinel_pre_mask)\n",
    "#resultmasked = np.ma.masked_array(result[1],mask=cloud_masks[4])\n",
    "resultmasked=np.ma.array(result,mask=mask3d)\n",
    "\n",
    "#xm2=np.ma.array(result, mask=result*m3d)\n",
    "#plot_image(sentinel_pre_cl_free)\n",
    "#plot_image(sentinel_pre_cl_free)\n",
    "#plot_image(resultmasked)\n",
    "spm= np.broadcast_to(mask3d==1, result.shape)\n",
    "np.unique(spm)\n",
    "spcf = np.ma.masked_array(result,mask=spm)\n",
    "\n",
    "masked=spcf.data"
   ]
  },
  {
   "cell_type": "code",
   "execution_count": null,
   "metadata": {},
   "outputs": [],
   "source": [
    "fig, ax = plt.subplots(1, 1, figsize=(8, 6))\n",
    "ax.imshow(resultmasked[3],extent=hardanger_bbox,cmap=\"Greys\")\n",
    "ax.set(title=\"Sentinel CIR Composite Image | October 2017\")\n",
    "ax.set_axis_off()"
   ]
  },
  {
   "cell_type": "code",
   "execution_count": null,
   "metadata": {
    "collapsed": true
   },
   "outputs": [],
   "source": [
    "fig, ax = plt.subplots(1,1,figsize=(12, 8))\n",
    "\n",
    "ax.imshow(sentinel_pre_cl_free[3],        \n",
    "          extent=hardanger_bbox,\n",
    "          cmap=\"Greys\")\n",
    "ax.set(title=\"Sentinel CIR Composite Image | Octoer 2017\")\n",
    "ax.set_axis_off()"
   ]
  },
  {
   "cell_type": "markdown",
   "metadata": {
    "collapsed": true
   },
   "source": [
    "### Save numpy arrays to disk (need to have rasterio working)\n",
    "\n",
    "script below courtesy of:\n",
    "https://forum.sentinel-hub.com/t/how-to-save-return-data-as-geotiff/218/2"
   ]
  },
  {
   "cell_type": "code",
   "execution_count": null,
   "metadata": {},
   "outputs": [],
   "source": [
    "# array of shape (h, w)\n",
    "dst_shape=mask3d.shape\n",
    "dst_shape\n",
    "resultmaskeddata=resultmasked.data\n",
    "resultmaskeddata.shape"
   ]
  },
  {
   "cell_type": "code",
   "execution_count": null,
   "metadata": {
    "collapsed": true
   },
   "outputs": [],
   "source": [
    "hardanger_bbox = BBox(bbox=hardangervidda_coords_wgs84, crs=CRS.WGS84) #bounding box, interpretable by sentinelhub\n",
    "# bbox is the bounding box BBox instance used in Wms/WcsRequest \n",
    "dst_transform = rasterio.transform.from_bounds(8.3018, 60.3967,6.7596,59.9, #initial rectangle coordinates\n",
    "                                               width=dst_shape[0], height=dst_shape[1])\n",
    "dst_crs = {'init': CRS.ogc_string(hardanger_bbox.crs)}"
   ]
  },
  {
   "cell_type": "code",
   "execution_count": null,
   "metadata": {},
   "outputs": [],
   "source": [
    "# Write it out to a file.\n",
    "file_name=resultmaskeddata\n",
    "with rasterio.open(file_name, 'w', driver='GTiff',\n",
    "                              width=dst_shape[1], height=dst_shape[0],\n",
    "                              count=1, dtype=np.float32, nodata=0,\n",
    "                              transform=dst_transform, crs=dst_crs) as dst:\n",
    "    dst.write(array.astype(np.float32), indexes=1)"
   ]
  },
  {
   "cell_type": "code",
   "execution_count": null,
   "metadata": {},
   "outputs": [],
   "source": [
    "cv2.imwrite('temp.tif', resultmaskeddata, photometric='minisblack')"
   ]
  },
  {
   "cell_type": "code",
   "execution_count": null,
   "metadata": {
    "collapsed": true
   },
   "outputs": [],
   "source": [
    "#sentinel_pre_mask = np.broadcast_to(mask2d == 1,result)\n",
    "cl_mask = np.zeros(mask2d.shape)\n",
    "\n",
    "for cval in mask2d:\n",
    "    # create cloud mask for all relevant cloud values, for the primary scene\n",
    "    cl_mask[mask2d == cval] = 1\n",
    "    #print(cval)\n",
    "np.unique(cl_mask)\n",
    "mask2d.shape\n",
    "\n",
    "#cl_mask\n",
    "#mask3d= np.broadcast_to(mask2d, (369,600,4))"
   ]
  },
  {
   "cell_type": "code",
   "execution_count": null,
   "metadata": {
    "collapsed": true
   },
   "outputs": [],
   "source": [
    "m = mask2d>0\n",
    "#resultmasked=np.ma.array(result,mask=m)\n",
    "landsat_pre_mask = np.broadcast_to(mask3d, result.shape)\n",
    "\n",
    "np.where(m==True)\n",
    "#landsat_pre_cl_free = ma.masked_array(result,mask=landsat_pre_mask)\n",
    "\n",
    "#result[mask!=0] = (0,0,255)\n",
    "#print(type(result))"
   ]
  },
  {
   "cell_type": "markdown",
   "metadata": {},
   "source": [
    "## Check out following sources:\n",
    "### more assistance on masking over multiple dimensions perhaps...\n",
    "https://www.earthdatascience.org/courses/earth-analytics-python/multispectral-remote-sensing-modis/cloud-masks-with-spectral-data-python/ \n",
    "https://geohackweek.github.io/nDarrays/09-masking/ "
   ]
  }
 ],
 "metadata": {
  "kernelspec": {
   "display_name": "Python [conda env:atcor2]",
   "language": "python",
   "name": "conda-env-atcor2-py"
  },
  "language_info": {
   "codemirror_mode": {
    "name": "ipython",
    "version": 3
   },
   "file_extension": ".py",
   "mimetype": "text/x-python",
   "name": "python",
   "nbconvert_exporter": "python",
   "pygments_lexer": "ipython3",
   "version": "3.7.1"
  }
 },
 "nbformat": 4,
 "nbformat_minor": 2
}
